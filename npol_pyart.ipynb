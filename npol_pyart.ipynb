{
 "cells": [
  {
   "attachments": {},
   "cell_type": "markdown",
   "metadata": {},
   "source": [
    "### NEW LIBRARY"
   ]
  },
  {
   "cell_type": "code",
   "execution_count": 1,
   "metadata": {},
   "outputs": [
    {
     "name": "stdout",
     "output_type": "stream",
     "text": [
      "\n",
      "## You are using the Python ARM Radar Toolkit (Py-ART), an open source\n",
      "## library for working with weather radar data. Py-ART is partly\n",
      "## supported by the U.S. Department of Energy as part of the Atmospheric\n",
      "## Radiation Measurement (ARM) Climate Research Facility, an Office of\n",
      "## Science user facility.\n",
      "##\n",
      "## If you use this software to prepare a publication, please cite:\n",
      "##\n",
      "##     JJ Helmus and SM Collis, JORS 2016, doi: 10.5334/jors.119\n",
      "\n"
     ]
    }
   ],
   "source": [
    "from pyart.io import uf\n",
    "from gzip import open as gzip_open"
   ]
  },
  {
   "cell_type": "code",
   "execution_count": 6,
   "metadata": {},
   "outputs": [
    {
     "name": "stdout",
     "output_type": "stream",
     "text": [
      "<gzip _io.BufferedReader name='./data/1105/ppi/olympex_NPOL1_20151105_161254_uf.gz' 0x7f568f3e3a30>\n"
     ]
    },
    {
     "data": {
      "text/plain": [
       "<pyart.core.radar.Radar at 0x7f568e13ed40>"
      ]
     },
     "execution_count": 6,
     "metadata": {},
     "output_type": "execute_result"
    }
   ],
   "source": [
    "uf_filename = \"./data/1105/ppi/olympex_NPOL1_20151105_161254_uf.gz\"\n",
    "with gzip_open(uf_filename, 'rb') as unzipped_file:\n",
    "    print(unzipped_file)\n",
    "    radar = uf.read_uf(\n",
    "        unzipped_file,\n",
    "        file_field_names=True\n",
    "    )\n",
    "radar"
   ]
  },
  {
   "cell_type": "code",
   "execution_count": 9,
   "metadata": {},
   "outputs": [
    {
     "name": "stdout",
     "output_type": "stream",
     "text": [
      "[  0 360 720]\n",
      "[ 359  719 1079]\n"
     ]
    }
   ],
   "source": [
    "sweep_start_ray_idx = radar.sweep_start_ray_index['data'][:]\n",
    "sweep_end_ray_idx = radar.sweep_end_ray_index['data'][:]\n",
    "\n",
    "print(sweep_start_ray_idx)\n",
    "print(sweep_end_ray_idx)"
   ]
  },
  {
   "cell_type": "code",
   "execution_count": 11,
   "metadata": {},
   "outputs": [
    {
     "name": "stdout",
     "output_type": "stream",
     "text": [
      "[[-- -- -- ... -- -- --]\n",
      " [-- -- -- ... -- -- --]\n",
      " [-- -- -- ... -- -- --]\n",
      " ...\n",
      " [-- -- -- ... -- -- --]\n",
      " [-- -- -- ... -- -- --]\n",
      " [-- -- -- ... -- -- --]]\n"
     ]
    }
   ],
   "source": [
    "cz = (radar.fields['CZ']['data'][:])\n",
    "dr = (radar.fields['DR']['data'][:])\n",
    "rh = (radar.fields['RH']['data'][:])\n",
    "\n",
    "print(cz)\n",
    "# print(dr)\n",
    "# print(rh)\n"
   ]
  },
  {
   "cell_type": "code",
   "execution_count": null,
   "metadata": {},
   "outputs": [],
   "source": [
    "\n"
   ]
  },
  {
   "cell_type": "code",
   "execution_count": null,
   "metadata": {},
   "outputs": [],
   "source": []
  }
 ],
 "metadata": {
  "kernelspec": {
   "display_name": "itsc-fcx-n",
   "language": "python",
   "name": "python3"
  },
  "language_info": {
   "codemirror_mode": {
    "name": "ipython",
    "version": 3
   },
   "file_extension": ".py",
   "mimetype": "text/x-python",
   "name": "python",
   "nbconvert_exporter": "python",
   "pygments_lexer": "ipython3",
   "version": "3.10.6"
  },
  "orig_nbformat": 4,
  "vscode": {
   "interpreter": {
    "hash": "499a5fb3fec32ad917a576b01fa5ecfdef941a73b5948d57fad4fa0146a62e96"
   }
  }
 },
 "nbformat": 4,
 "nbformat_minor": 2
}
