{
 "cells": [
  {
   "attachments": {},
   "cell_type": "markdown",
   "metadata": {},
   "source": [
    "### NEW LIBRARY"
   ]
  },
  {
   "cell_type": "code",
   "execution_count": 2,
   "metadata": {},
   "outputs": [
    {
     "name": "stdout",
     "output_type": "stream",
     "text": [
      "\n",
      "## You are using the Python ARM Radar Toolkit (Py-ART), an open source\n",
      "## library for working with weather radar data. Py-ART is partly\n",
      "## supported by the U.S. Department of Energy as part of the Atmospheric\n",
      "## Radiation Measurement (ARM) Climate Research Facility, an Office of\n",
      "## Science user facility.\n",
      "##\n",
      "## If you use this software to prepare a publication, please cite:\n",
      "##\n",
      "##     JJ Helmus and SM Collis, JORS 2016, doi: 10.5334/jors.119\n",
      "\n"
     ]
    }
   ],
   "source": [
    "from pyart.io import uf\n",
    "from gzip import open as gzip_open"
   ]
  },
  {
   "cell_type": "code",
   "execution_count": 3,
   "metadata": {},
   "outputs": [
    {
     "name": "stdout",
     "output_type": "stream",
     "text": [
      "<gzip _io.BufferedReader name='./data/1105/ppi/olympex_NPOL1_20151105_161254_uf.gz' 0x7ff36bd8df60>\n"
     ]
    },
    {
     "data": {
      "text/plain": [
       "<pyart.core.radar.Radar at 0x7ff3dc418b80>"
      ]
     },
     "execution_count": 3,
     "metadata": {},
     "output_type": "execute_result"
    }
   ],
   "source": [
    "uf_filename = \"./data/1105/ppi/olympex_NPOL1_20151105_161254_uf.gz\"\n",
    "with gzip_open(uf_filename, 'rb') as unzipped_file:\n",
    "    print(unzipped_file)\n",
    "    radar = uf.read_uf(\n",
    "        unzipped_file,\n",
    "        file_field_names=True\n",
    "    )\n",
    "radar"
   ]
  },
  {
   "cell_type": "code",
   "execution_count": 4,
   "metadata": {},
   "outputs": [
    {
     "name": "stdout",
     "output_type": "stream",
     "text": [
      "[  0 360 720]\n",
      "[ 359  719 1079]\n"
     ]
    }
   ],
   "source": [
    "sweep_start_ray_idx = radar.sweep_start_ray_index['data'][:]\n",
    "sweep_end_ray_idx = radar.sweep_end_ray_index['data'][:]\n",
    "\n",
    "print(sweep_start_ray_idx)\n",
    "print(sweep_end_ray_idx)"
   ]
  },
  {
   "cell_type": "code",
   "execution_count": 5,
   "metadata": {},
   "outputs": [],
   "source": [
    "cz = (radar.fields['CZ']['data'][:])\n",
    "dr = (radar.fields['DR']['data'][:])\n",
    "rh = (radar.fields['RH']['data'][:])"
   ]
  },
  {
   "cell_type": "code",
   "execution_count": 7,
   "metadata": {},
   "outputs": [
    {
     "data": {
      "text/plain": [
       "numpy.ma.core.MaskedArray"
      ]
     },
     "execution_count": 7,
     "metadata": {},
     "output_type": "execute_result"
    }
   ],
   "source": [
    "type(cz)"
   ]
  },
  {
   "cell_type": "code",
   "execution_count": 14,
   "metadata": {},
   "outputs": [
    {
     "data": {
      "text/plain": [
       "array([[ True,  True,  True, ...,  True,  True,  True],\n",
       "       [ True,  True,  True, ...,  True,  True,  True],\n",
       "       [ True,  True,  True, ...,  True,  True,  True],\n",
       "       ...,\n",
       "       [ True,  True,  True, ...,  True,  True,  True],\n",
       "       [ True,  True,  True, ...,  True,  True,  True],\n",
       "       [ True,  True,  True, ...,  True,  True,  True]])"
      ]
     },
     "execution_count": 14,
     "metadata": {},
     "output_type": "execute_result"
    }
   ],
   "source": [
    "cz.mask"
   ]
  },
  {
   "cell_type": "code",
   "execution_count": 20,
   "metadata": {},
   "outputs": [
    {
     "data": {
      "text/plain": [
       "masked_array(data=[],\n",
       "             mask=[],\n",
       "       fill_value=1e+20,\n",
       "            dtype=float64)"
      ]
     },
     "execution_count": 20,
     "metadata": {},
     "output_type": "execute_result"
    }
   ],
   "source": [
    "# mask when true, it indicates an invalid data.\n",
    "# mask when false, it indicates an valid data.\n",
    "cz[~cz.mask]"
   ]
  },
  {
   "cell_type": "code",
   "execution_count": 21,
   "metadata": {},
   "outputs": [
    {
     "data": {
      "text/plain": [
       "array([[-327.68, -327.68, -327.68, ..., -327.68, -327.68, -327.68],\n",
       "       [-327.68, -327.68, -327.68, ..., -327.68, -327.68, -327.68],\n",
       "       [-327.68, -327.68, -327.68, ..., -327.68, -327.68, -327.68],\n",
       "       ...,\n",
       "       [-327.68, -327.68, -327.68, ..., -327.68, -327.68, -327.68],\n",
       "       [-327.68, -327.68, -327.68, ..., -327.68, -327.68, -327.68],\n",
       "       [-327.68, -327.68, -327.68, ..., -327.68, -327.68, -327.68]])"
      ]
     },
     "execution_count": 21,
     "metadata": {},
     "output_type": "execute_result"
    }
   ],
   "source": [
    "cz.data"
   ]
  },
  {
   "cell_type": "code",
   "execution_count": 23,
   "metadata": {},
   "outputs": [],
   "source": [
    "import numpy as np"
   ]
  },
  {
   "cell_type": "code",
   "execution_count": 24,
   "metadata": {},
   "outputs": [
    {
     "data": {
      "text/plain": [
       "-327.68000000000023"
      ]
     },
     "execution_count": 24,
     "metadata": {},
     "output_type": "execute_result"
    }
   ],
   "source": [
    "np.mean(cz.data)"
   ]
  },
  {
   "attachments": {},
   "cell_type": "markdown",
   "metadata": {},
   "source": [
    "VISAGE REFERENCE"
   ]
  },
  {
   "cell_type": "code",
   "execution_count": 25,
   "metadata": {},
   "outputs": [],
   "source": [
    "cz = (radar.fields['CZ']['data'][:])"
   ]
  },
  {
   "cell_type": "code",
   "execution_count": 33,
   "metadata": {},
   "outputs": [
    {
     "data": {
      "text/plain": [
       "masked_array(\n",
       "  data=[[--, --, --, ..., --, --, --],\n",
       "        [--, --, --, ..., --, --, --],\n",
       "        [--, --, --, ..., --, --, --],\n",
       "        ...,\n",
       "        [--, --, --, ..., --, --, --],\n",
       "        [--, --, --, ..., --, --, --],\n",
       "        [--, --, --, ..., --, --, --]],\n",
       "  mask=[[ True,  True,  True, ...,  True,  True,  True],\n",
       "        [ True,  True,  True, ...,  True,  True,  True],\n",
       "        [ True,  True,  True, ...,  True,  True,  True],\n",
       "        ...,\n",
       "        [ True,  True,  True, ...,  True,  True,  True],\n",
       "        [ True,  True,  True, ...,  True,  True,  True],\n",
       "        [ True,  True,  True, ...,  True,  True,  True]],\n",
       "  fill_value=1e+20,\n",
       "  dtype=float64)"
      ]
     },
     "execution_count": 33,
     "metadata": {},
     "output_type": "execute_result"
    }
   ],
   "source": [
    "rh"
   ]
  },
  {
   "cell_type": "code",
   "execution_count": 35,
   "metadata": {},
   "outputs": [],
   "source": [
    "gate_latitude = radar.gate_latitude['data'][:]\n",
    "gate_longitude = radar.gate_longitude['data'][:]\n",
    "gate_altitude = radar.gate_altitude['data'][:]"
   ]
  },
  {
   "cell_type": "code",
   "execution_count": 38,
   "metadata": {},
   "outputs": [
    {
     "data": {
      "text/plain": [
       "array([[ 157.,  158.,  159., ..., 2366., 2369., 2372.],\n",
       "       [ 157.,  158.,  159., ..., 2366., 2369., 2372.],\n",
       "       [ 157.,  158.,  159., ..., 2366., 2369., 2372.],\n",
       "       ...,\n",
       "       [ 159.,  164.,  170., ..., 7067., 7075., 7082.],\n",
       "       [ 159.,  164.,  170., ..., 7067., 7075., 7082.],\n",
       "       [ 159.,  164.,  170., ..., 7067., 7075., 7082.]])"
      ]
     },
     "execution_count": 38,
     "metadata": {},
     "output_type": "execute_result"
    }
   ],
   "source": [
    "gate_altitude"
   ]
  },
  {
   "cell_type": "code",
   "execution_count": 40,
   "metadata": {},
   "outputs": [],
   "source": [
    "from datetime import datetime\n",
    "\n",
    "full_time = radar.time['units']\\\n",
    "    .replace('since', '')\\\n",
    "    .replace('seconds', '')\n",
    "full_time = full_time.replace(' ', '')\n",
    "full_time = full_time.replace('T', '')\n",
    "full_time = datetime.strptime(full_time, '%Y-%m-%d%H:%M:%SZ')"
   ]
  },
  {
   "cell_type": "code",
   "execution_count": 41,
   "metadata": {},
   "outputs": [
    {
     "data": {
      "text/plain": [
       "datetime.datetime(2015, 11, 5, 16, 12, 56)"
      ]
     },
     "execution_count": 41,
     "metadata": {},
     "output_type": "execute_result"
    }
   ],
   "source": [
    "full_time"
   ]
  },
  {
   "cell_type": "code",
   "execution_count": 48,
   "metadata": {},
   "outputs": [],
   "source": [
    "from datetime import timedelta\n",
    "from numpy import ma\n",
    "\n",
    "CZ = cz\n",
    "DR = dr\n",
    "RH = rh"
   ]
  },
  {
   "cell_type": "code",
   "execution_count": 54,
   "metadata": {},
   "outputs": [],
   "source": [
    "row_dict = {}"
   ]
  },
  {
   "cell_type": "code",
   "execution_count": 58,
   "metadata": {},
   "outputs": [
    {
     "name": "stderr",
     "output_type": "stream",
     "text": [
      "/tmp/ipykernel_1901/2095481122.py:27: UserWarning: Warning: converting a masked element to nan.\n",
      "  'CZ': float(tmp_cz[gate]),\n",
      "/tmp/ipykernel_1901/2095481122.py:28: UserWarning: Warning: converting a masked element to nan.\n",
      "  'DR': float(tmp_dr[gate]),\n",
      "/tmp/ipykernel_1901/2095481122.py:29: UserWarning: Warning: converting a masked element to nan.\n",
      "  'RH': float(tmp_rh[gate]),\n"
     ]
    }
   ],
   "source": [
    "for ii in range(0, radar.nsweeps):\n",
    "    # Calculate the start and end time for this sweep\n",
    "    idx0 = sweep_start_ray_idx[ii]\n",
    "    idx1 = sweep_end_ray_idx[ii]\n",
    "\n",
    "    # ray by ray; 226 rays per sweep\n",
    "    for ray in range(idx0, idx1 + 1):\n",
    "        tmp_cz = CZ[ray, :]\n",
    "        tmp_dr = DR[ray, :]\n",
    "        tmp_rh = RH[ray, :]\n",
    "        \n",
    "        tmp_time_ray = (full_time + timedelta(\n",
    "            seconds=float(radar.time['data'][ray])\n",
    "        )).strftime('%Y-%m-%dT%H:%M:%SZ')\n",
    "        tmp_gate_lat = gate_latitude[ray, :]\n",
    "        tmp_gate_lon = gate_longitude[ray, :]\n",
    "        tmp_gate_alt = gate_altitude[ray, :]\n",
    "\n",
    "        # check CZ values gate by gate; 1081 gates per ray\n",
    "        for gate in range(0, len(tmp_cz)):\n",
    "            # if tmp_cz[gate] is not ma.masked:\n",
    "                row_dict = {\n",
    "                    'timestamp': tmp_time_ray,\n",
    "                    'lat': round(float(tmp_gate_lat[gate]), 4),\n",
    "                    'lon': round(float(tmp_gate_lon[gate]), 4),\n",
    "                    'height': float(tmp_gate_alt[gate]),\n",
    "                    'CZ': float(tmp_cz[gate]),\n",
    "                    'DR': float(tmp_dr[gate]),\n",
    "                    'RH': float(tmp_rh[gate]),\n",
    "\n",
    "                }"
   ]
  },
  {
   "cell_type": "code",
   "execution_count": 59,
   "metadata": {},
   "outputs": [
    {
     "data": {
      "text/plain": [
       "{'timestamp': '2015-11-05T16:14:09Z',\n",
       " 'lat': 48.4896,\n",
       " 'lon': -124.242,\n",
       " 'height': 7082.0,\n",
       " 'CZ': nan,\n",
       " 'DR': nan,\n",
       " 'RH': nan}"
      ]
     },
     "execution_count": 59,
     "metadata": {},
     "output_type": "execute_result"
    }
   ],
   "source": [
    "row_dict"
   ]
  },
  {
   "cell_type": "code",
   "execution_count": 80,
   "metadata": {},
   "outputs": [],
   "source": [
    "# Update data with new API updated\n",
    "# OLYMPEX\n",
    "# (6) \n",
    "#Ground radar NPOL (gpmnpololyx2)  \n",
    "#collection = GroundRadar\n",
    "#campaign = olympex\n",
    "#instrument = NPOL\n",
    "#scan type = RHI\n",
    "\n",
    "from pyart.io import uf\n",
    "from datetime import timedelta\n",
    "from datetime import datetime\n",
    "from numpy import ma\n",
    "from gzip import open as gzip_open\n",
    "\n",
    "class Reader():\n",
    "    \"\"\"Reader that reads all data from a set of UF Radar Files.\n",
    "    \"\"\"\n",
    "    def init(self):\n",
    "        pass\n",
    "\n",
    "    def _read_radar(self):\n",
    "        \"\"\"Read the radar file and return some important values.\n",
    "\n",
    "        :return: The radar data including some important values.\n",
    "        :rtype: Tuple\n",
    "        \"\"\"\n",
    "        uf_filename = \"./data/1203/rhi_a/olympex_NPOL1_20151203_000005_rhi_00-20.uf.gz\"\n",
    "        if uf_filename.endswith('.gz'):\n",
    "            with gzip_open(uf_filename, 'rb') as unzipped_file:\n",
    "                radar = uf.read_uf(\n",
    "                    unzipped_file,\n",
    "                    file_field_names=True\n",
    "                )\n",
    "        else:\n",
    "            radar = uf.read_uf(\n",
    "                uf_filename,\n",
    "                file_field_names=True\n",
    "            )\n",
    "        sweep_start_ray_idx = radar.sweep_start_ray_index['data'][:]\n",
    "        sweep_end_ray_idx = radar.sweep_end_ray_index['data'][:]\n",
    "\n",
    "        cz = (radar.fields['CZ']['data'][:])\n",
    "        dr = (radar.fields['DR']['data'][:])\n",
    "        rh = (radar.fields['RH']['data'][:])\n",
    "        \n",
    "        fh = (radar.fields['FH']['data'][:])\n",
    "        dm = (radar.fields['DM']['data'][:])\n",
    "\n",
    "\n",
    "        # Lucy Wang added the following command lines on July 23, 2018\n",
    "        gate_latitude = radar.gate_latitude['data'][:]\n",
    "        gate_longitude = radar.gate_longitude['data'][:]\n",
    "        gate_altitude = radar.gate_altitude['data'][:]\n",
    "        # -------------------------------------------------------------\n",
    "\n",
    "        # Get time in %Y-%m-%d%H:%M:%SZ format\n",
    "        full_time = radar.time['units']\\\n",
    "            .replace('since', '')\\\n",
    "            .replace('seconds', '')\n",
    "        full_time = full_time.replace(' ', '')\n",
    "        full_time = full_time.replace('T', '')\n",
    "        full_time = datetime.strptime(full_time, '%Y-%m-%d%H:%M:%SZ')\n",
    "\n",
    "        return (\n",
    "            sweep_start_ray_idx,\n",
    "            sweep_end_ray_idx,\n",
    "            cz,\n",
    "            dr,\n",
    "            rh,\n",
    "            fh,\n",
    "            dm,\n",
    "            gate_latitude,\n",
    "            gate_longitude,\n",
    "            gate_altitude,\n",
    "            full_time,\n",
    "            radar,\n",
    "        )\n",
    "\n",
    "    def read_data(self):\n",
    "        \"\"\"Generator function that generates each datum from the radar file\n",
    "        sequentially.\n",
    "        \"\"\"\n",
    "        index = 0\n",
    "        (\n",
    "            sweep_start_ray_idx,\n",
    "            sweep_end_ray_idx,\n",
    "            CZ,\n",
    "            DR,\n",
    "            RH,\n",
    "            FH,\n",
    "            DM,\n",
    "            gate_latitude,\n",
    "            gate_longitude,\n",
    "            gate_altitude,\n",
    "            full_time,\n",
    "            radar\n",
    "        ) = self._read_radar()\n",
    "\n",
    "        # sweep by sweep; 20 sweeps per rhi_a file (over ocean)\n",
    "        for ii in range(0, radar.nsweeps):\n",
    "            # Calculate the start and end time for this sweep\n",
    "            idx0 = sweep_start_ray_idx[ii]\n",
    "            idx1 = sweep_end_ray_idx[ii]\n",
    "\n",
    "            # ray by ray; 226 rays per sweep\n",
    "            for ray in range(idx0, idx1 + 1):\n",
    "                tmp_cz = CZ[ray, :]\n",
    "                tmp_dr = DR[ray, :]\n",
    "                tmp_rh = RH[ray, :]\n",
    "                tmp_fh = FH[ray, :]\n",
    "                tmp_dm = DM[ray, :]\n",
    "                tmp_time_ray = (full_time + timedelta(\n",
    "                    seconds=float(radar.time['data'][ray])\n",
    "                )).strftime('%Y-%m-%dT%H:%M:%SZ')\n",
    "                tmp_gate_lat = gate_latitude[ray, :]\n",
    "                tmp_gate_lon = gate_longitude[ray, :]\n",
    "                tmp_gate_alt = gate_altitude[ray, :]\n",
    "\n",
    "                # check CZ values gate by gate; 1081 gates per ray\n",
    "                for gate in range(0, len(tmp_cz)):\n",
    "                    if tmp_cz[gate] is not ma.masked:\n",
    "                        row_dict = {\n",
    "                            'timestamp': tmp_time_ray,\n",
    "                            'lat': round(float(tmp_gate_lat[gate]), 4),\n",
    "                            'lon': round(float(tmp_gate_lon[gate]), 4),\n",
    "                            'height': float(tmp_gate_alt[gate]),\n",
    "                            'CZ': float(tmp_cz[gate]),\n",
    "                            'DR': float(tmp_dr[gate]),\n",
    "                            'RH': float(tmp_rh[gate]),\n",
    "                            'FH': float(tmp_fh[gate]),\n",
    "                            'DM': float(tmp_dm[gate]),\n",
    "                        }\n",
    "                        yield row_dict\n",
    "                        index += 1\n"
   ]
  },
  {
   "cell_type": "code",
   "execution_count": 81,
   "metadata": {},
   "outputs": [],
   "source": [
    "rd = Reader()\n",
    "data = rd.read_data()"
   ]
  },
  {
   "cell_type": "code",
   "execution_count": 82,
   "metadata": {},
   "outputs": [
    {
     "data": {
      "text/plain": [
       "<generator object Reader.read_data at 0x7ff36bba7ed0>"
      ]
     },
     "execution_count": 82,
     "metadata": {},
     "output_type": "execute_result"
    }
   ],
   "source": [
    "data"
   ]
  },
  {
   "cell_type": "code",
   "execution_count": 83,
   "metadata": {},
   "outputs": [
    {
     "name": "stdout",
     "output_type": "stream",
     "text": [
      "{'timestamp': '2015-12-03T00:00:07Z', 'lat': 47.2709, 'lon': -124.2165, 'height': 156.0, 'CZ': 25.93, 'DR': 1.22, 'RH': 0.84, 'FH': 2.0, 'DM': 1.85}\n"
     ]
    }
   ],
   "source": [
    "print(next(data))"
   ]
  },
  {
   "attachments": {},
   "cell_type": "markdown",
   "metadata": {},
   "source": [
    "Generators"
   ]
  },
  {
   "cell_type": "code",
   "execution_count": 70,
   "metadata": {},
   "outputs": [
    {
     "data": {
      "text/plain": [
       "1"
      ]
     },
     "execution_count": 70,
     "metadata": {},
     "output_type": "execute_result"
    }
   ],
   "source": [
    "def fun(x):\n",
    "    n = 0\n",
    "    while n < x:\n",
    "        yield n\n",
    "        n += 1\n",
    "z = fun(10)\n",
    "next(z)\n",
    "next(z)"
   ]
  },
  {
   "cell_type": "code",
   "execution_count": 71,
   "metadata": {},
   "outputs": [
    {
     "data": {
      "text/plain": [
       "2"
      ]
     },
     "execution_count": 71,
     "metadata": {},
     "output_type": "execute_result"
    }
   ],
   "source": [
    "next(z)"
   ]
  },
  {
   "cell_type": "code",
   "execution_count": null,
   "metadata": {},
   "outputs": [],
   "source": []
  }
 ],
 "metadata": {
  "kernelspec": {
   "display_name": "itsc-fcx-n",
   "language": "python",
   "name": "python3"
  },
  "language_info": {
   "codemirror_mode": {
    "name": "ipython",
    "version": 3
   },
   "file_extension": ".py",
   "mimetype": "text/x-python",
   "name": "python",
   "nbconvert_exporter": "python",
   "pygments_lexer": "ipython3",
   "version": "3.10.6"
  },
  "orig_nbformat": 4,
  "vscode": {
   "interpreter": {
    "hash": "499a5fb3fec32ad917a576b01fa5ecfdef941a73b5948d57fad4fa0146a62e96"
   }
  }
 },
 "nbformat": 4,
 "nbformat_minor": 2
}
