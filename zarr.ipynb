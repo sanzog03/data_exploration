{
 "cells": [
  {
   "cell_type": "code",
   "execution_count": 1,
   "metadata": {},
   "outputs": [],
   "source": [
    "import zarr\n",
    "import numpy as np"
   ]
  },
  {
   "cell_type": "code",
   "execution_count": 2,
   "metadata": {},
   "outputs": [
    {
     "data": {
      "text/plain": [
       "<zarr.core.Array (10000, 10000) int32>"
      ]
     },
     "execution_count": 2,
     "metadata": {},
     "output_type": "execute_result"
    }
   ],
   "source": [
    "z = zarr.zeros((10000, 10000), chunks=(1000, 1000), dtype=\"i4\")\n",
    "z"
   ]
  },
  {
   "cell_type": "code",
   "execution_count": 3,
   "metadata": {},
   "outputs": [],
   "source": [
    "z[:] = 42 # full colon represents from where to where, \"a slice\""
   ]
  },
  {
   "cell_type": "code",
   "execution_count": 4,
   "metadata": {},
   "outputs": [
    {
     "data": {
      "text/plain": [
       "array([[42, 42, 42, ..., 42, 42, 42],\n",
       "       [42, 42, 42, ..., 42, 42, 42],\n",
       "       [42, 42, 42, ..., 42, 42, 42],\n",
       "       ...,\n",
       "       [42, 42, 42, ..., 42, 42, 42],\n",
       "       [42, 42, 42, ..., 42, 42, 42],\n",
       "       [42, 42, 42, ..., 42, 42, 42]], dtype=int32)"
      ]
     },
     "execution_count": 4,
     "metadata": {},
     "output_type": "execute_result"
    }
   ],
   "source": [
    "z[:]"
   ]
  },
  {
   "cell_type": "code",
   "execution_count": 5,
   "metadata": {},
   "outputs": [
    {
     "name": "stdout",
     "output_type": "stream",
     "text": [
      "42\n",
      "42\n"
     ]
    }
   ],
   "source": [
    "print(z[0][0])\n",
    "print(z[0,0])"
   ]
  },
  {
   "cell_type": "code",
   "execution_count": 6,
   "metadata": {},
   "outputs": [
    {
     "data": {
      "text/plain": [
       "(10000, 10000)"
      ]
     },
     "execution_count": 6,
     "metadata": {},
     "output_type": "execute_result"
    }
   ],
   "source": [
    "z[:].shape"
   ]
  },
  {
   "cell_type": "code",
   "execution_count": 7,
   "metadata": {},
   "outputs": [
    {
     "data": {
      "text/plain": [
       "array([   0,    1,    2, ..., 9997, 9998, 9999])"
      ]
     },
     "execution_count": 7,
     "metadata": {},
     "output_type": "execute_result"
    }
   ],
   "source": [
    "a = np.arange(10000)\n",
    "b = np.arange(10000)\n",
    "b"
   ]
  },
  {
   "cell_type": "code",
   "execution_count": 8,
   "metadata": {},
   "outputs": [
    {
     "data": {
      "text/plain": [
       "array([42, 42, 42, ..., 42, 42, 42], dtype=int32)"
      ]
     },
     "execution_count": 8,
     "metadata": {},
     "output_type": "execute_result"
    }
   ],
   "source": [
    "z[0, :] # [,] similar to accessing multi dim array [][]"
   ]
  },
  {
   "cell_type": "code",
   "execution_count": 9,
   "metadata": {},
   "outputs": [],
   "source": [
    "z[0, :] = a\n",
    "z[:, 0] = b"
   ]
  },
  {
   "cell_type": "code",
   "execution_count": 10,
   "metadata": {},
   "outputs": [
    {
     "data": {
      "text/plain": [
       "array([[   0,    1,    2, ..., 9997, 9998, 9999],\n",
       "       [   1,   42,   42, ...,   42,   42,   42],\n",
       "       [   2,   42,   42, ...,   42,   42,   42],\n",
       "       ...,\n",
       "       [9997,   42,   42, ...,   42,   42,   42],\n",
       "       [9998,   42,   42, ...,   42,   42,   42],\n",
       "       [9999,   42,   42, ...,   42,   42,   42]], dtype=int32)"
      ]
     },
     "execution_count": 10,
     "metadata": {},
     "output_type": "execute_result"
    }
   ],
   "source": [
    "z[:]"
   ]
  },
  {
   "cell_type": "code",
   "execution_count": 11,
   "metadata": {},
   "outputs": [
    {
     "data": {
      "text/plain": [
       "9999"
      ]
     },
     "execution_count": 11,
     "metadata": {},
     "output_type": "execute_result"
    }
   ],
   "source": [
    "z[-1, 0]"
   ]
  },
  {
   "attachments": {},
   "cell_type": "markdown",
   "metadata": {},
   "source": [
    "## GROUP\n",
    "\n",
    "For hierarchical organization of arrays\n",
    "\n",
    "Idea taken from groups in HDF5\n",
    "\n",
    "tldr, Its similar to Dictonaries in python"
   ]
  },
  {
   "cell_type": "code",
   "execution_count": 12,
   "metadata": {},
   "outputs": [
    {
     "data": {
      "text/plain": [
       "<zarr.hierarchy.Group '/'>"
      ]
     },
     "execution_count": 12,
     "metadata": {},
     "output_type": "execute_result"
    }
   ],
   "source": [
    "root = zarr.group()\n",
    "root"
   ]
  },
  {
   "cell_type": "code",
   "execution_count": 13,
   "metadata": {},
   "outputs": [],
   "source": [
    "# group can contain other groups\n",
    "foo = root.create_group(\"foo\")\n",
    "bar = root.create_group(\"bar\")"
   ]
  },
  {
   "cell_type": "code",
   "execution_count": 14,
   "metadata": {},
   "outputs": [
    {
     "data": {
      "text/plain": [
       "<zarr.hierarchy.Group '/foo'>"
      ]
     },
     "execution_count": 14,
     "metadata": {},
     "output_type": "execute_result"
    }
   ],
   "source": [
    "foo"
   ]
  },
  {
   "cell_type": "code",
   "execution_count": 15,
   "metadata": {},
   "outputs": [
    {
     "data": {
      "text/plain": [
       "<zarr.core.Array '/bar/baz' (10000, 10000) int32>"
      ]
     },
     "execution_count": 15,
     "metadata": {},
     "output_type": "execute_result"
    }
   ],
   "source": [
    "z1 = bar.zeros('baz', shape = (10000, 10000), chunks= (1000, 1000), dtype = \"i4\")\n",
    "z1"
   ]
  },
  {
   "cell_type": "code",
   "execution_count": 16,
   "metadata": {},
   "outputs": [
    {
     "data": {
      "text/plain": [
       "array([[0, 0, 0, ..., 0, 0, 0],\n",
       "       [0, 0, 0, ..., 0, 0, 0],\n",
       "       [0, 0, 0, ..., 0, 0, 0],\n",
       "       ...,\n",
       "       [0, 0, 0, ..., 0, 0, 0],\n",
       "       [0, 0, 0, ..., 0, 0, 0],\n",
       "       [0, 0, 0, ..., 0, 0, 0]], dtype=int32)"
      ]
     },
     "execution_count": 16,
     "metadata": {},
     "output_type": "execute_result"
    }
   ],
   "source": [
    "root.bar.baz[:]"
   ]
  },
  {
   "attachments": {},
   "cell_type": "markdown",
   "metadata": {},
   "source": [
    "In HDF5 arrays are called DATASET\n",
    "so is it in here."
   ]
  },
  {
   "cell_type": "code",
   "execution_count": 17,
   "metadata": {},
   "outputs": [
    {
     "name": "stderr",
     "output_type": "stream",
     "text": [
      "/home/sanzog03/miniconda3/envs/itsc-fcx/lib/python3.9/site-packages/zarr/creation.py:242: UserWarning: ignoring keyword argument 'chunk'\n",
      "  warn('ignoring keyword argument %r' % k)\n"
     ]
    },
    {
     "data": {
      "text/plain": [
       "<zarr.core.Array '/bar/quux' (10000, 10000) int32>"
      ]
     },
     "execution_count": 17,
     "metadata": {},
     "output_type": "execute_result"
    }
   ],
   "source": [
    "z = bar.create_dataset('quux', shape=(10000, 10000), chunk=(1000, 1000), dtype='i4')\n",
    "z"
   ]
  },
  {
   "cell_type": "code",
   "execution_count": 18,
   "metadata": {},
   "outputs": [
    {
     "data": {
      "application/vnd.jupyter.widget-view+json": {
       "model_id": "4a15a8a5628b4ed885c14b77046ea148",
       "version_major": 2,
       "version_minor": 0
      },
      "text/plain": [
       "Tree(nodes=(Node(disabled=True, name='/', nodes=(Node(disabled=True, name='bar', nodes=(Node(disabled=True, ic…"
      ]
     },
     "execution_count": 18,
     "metadata": {},
     "output_type": "execute_result"
    }
   ],
   "source": [
    "root.tree()"
   ]
  },
  {
   "attachments": {},
   "cell_type": "markdown",
   "metadata": {},
   "source": [
    "NOTE:\n",
    "\n",
    "IN POINT CLOUD TILESET generation,\n",
    "generation is done on a zarr file type\n",
    "\n",
    "i.e. any input file is converted into zarr type // \"Ingested\"\n",
    "Then the zarr file type is converted into 3d tiles.\n",
    "\n",
    "The intermediate zarr file contains various Groups. Eg.\n",
    "Time\n",
    "Location\n",
    "value\n",
    "chunk_id\n",
    "\n",
    "Each of the groups has several datasets(array), named numerically. \\\n",
    "I guess each dataset has some chunk data for the Group. \\\n",
    "Eg. 1.0 file has some chunk of dataset (array) for Time Group \\\n",
    "&&  9.0 file has some more chunk of dataset (array) for Time Group. "
   ]
  },
  {
   "attachments": {},
   "cell_type": "markdown",
   "metadata": {},
   "source": [
    "### ROUGH"
   ]
  },
  {
   "cell_type": "code",
   "execution_count": 30,
   "metadata": {},
   "outputs": [],
   "source": [
    "store1 = zarr.DirectoryStore(\"/tmp/crs_olympex/zarr\")\n",
    "root1 = zarr.group(store=store1)"
   ]
  },
  {
   "cell_type": "code",
   "execution_count": 31,
   "metadata": {},
   "outputs": [
    {
     "data": {
      "application/vnd.jupyter.widget-view+json": {
       "model_id": "ef2e7eead8264f19bd177259c6235050",
       "version_major": 2,
       "version_minor": 0
      },
      "text/plain": [
       "Tree(nodes=(Node(disabled=True, name='/', nodes=(Node(disabled=True, name='20151110', nodes=(Node(disabled=Tru…"
      ]
     },
     "execution_count": 31,
     "metadata": {},
     "output_type": "execute_result"
    }
   ],
   "source": [
    "root1.tree()"
   ]
  },
  {
   "cell_type": "code",
   "execution_count": 32,
   "metadata": {},
   "outputs": [
    {
     "data": {
      "text/plain": [
       "array([[         0, 1447176496],\n",
       "       [    262144, 1447177273],\n",
       "       [    524288, 1447178079]])"
      ]
     },
     "execution_count": 32,
     "metadata": {},
     "output_type": "execute_result"
    }
   ],
   "source": [
    "root1['20151110'][\"chunk_id\"][:]"
   ]
  },
  {
   "cell_type": "code",
   "execution_count": 33,
   "metadata": {},
   "outputs": [
    {
     "data": {
      "text/plain": [
       "array([[ -118.1554  ,    35.18708 , 19257.947   ],\n",
       "       [ -118.15517 ,    35.186512, 18473.303   ],\n",
       "       [ -118.155174,    35.18652 , 18510.703   ],\n",
       "       ...,\n",
       "       [ -119.918884,    34.246967, 17638.7     ],\n",
       "       [ -119.9189  ,    34.24694 , 17601.469   ],\n",
       "       [ -119.91896 ,    34.24685 , 17489.777   ]], dtype=float32)"
      ]
     },
     "execution_count": 33,
     "metadata": {},
     "output_type": "execute_result"
    }
   ],
   "source": [
    "root1['20151110'][\"location\"][:]"
   ]
  },
  {
   "cell_type": "code",
   "execution_count": 34,
   "metadata": {},
   "outputs": [
    {
     "data": {
      "text/plain": [
       "array([   0,    0,    0, ..., 1969, 1969, 1969], dtype=int32)"
      ]
     },
     "execution_count": 34,
     "metadata": {},
     "output_type": "execute_result"
    }
   ],
   "source": [
    "root1['20151110'][\"time\"][:]"
   ]
  },
  {
   "cell_type": "code",
   "execution_count": 35,
   "metadata": {},
   "outputs": [
    {
     "data": {
      "text/plain": [
       "array([-1101.3055  ,   -24.597084,   -26.546768, ...,   -38.94864 ,\n",
       "         -36.910416,   -38.653282], dtype=float32)"
      ]
     },
     "execution_count": 35,
     "metadata": {},
     "output_type": "execute_result"
    }
   ],
   "source": [
    "root1['20151110'][\"value\"][\"ref\"][:]"
   ]
  },
  {
   "attachments": {},
   "cell_type": "markdown",
   "metadata": {},
   "source": [
    "FOR CPL"
   ]
  },
  {
   "cell_type": "code",
   "execution_count": 37,
   "metadata": {},
   "outputs": [],
   "source": [
    "store2 = zarr.DirectoryStore(\"/tmp/cpl_olympex/zarr\")\n",
    "root2 = zarr.group(store=store2)"
   ]
  },
  {
   "cell_type": "code",
   "execution_count": 38,
   "metadata": {},
   "outputs": [
    {
     "data": {
      "application/vnd.jupyter.widget-view+json": {
       "model_id": "94d0f626625b4676ab06376800c02dbf",
       "version_major": 2,
       "version_minor": 0
      },
      "text/plain": [
       "Tree(nodes=(Node(disabled=True, name='/', nodes=(Node(disabled=True, name='CPL', nodes=(Node(disabled=True, ic…"
      ]
     },
     "execution_count": 38,
     "metadata": {},
     "output_type": "execute_result"
    }
   ],
   "source": [
    "root2.tree()"
   ]
  },
  {
   "cell_type": "code",
   "execution_count": 39,
   "metadata": {},
   "outputs": [
    {
     "data": {
      "text/plain": [
       "array([[      0,   69920],\n",
       "       [ 262144,   70265],\n",
       "       [ 524288,   70594],\n",
       "       [ 786432,   70912],\n",
       "       [1048576,   71231],\n",
       "       [1310720,   71549],\n",
       "       [1572864,   71870],\n",
       "       [1835008,   72190],\n",
       "       [2097152,   72510],\n",
       "       [2359296,   72826],\n",
       "       [2621440,   73143],\n",
       "       [2883584,   73464],\n",
       "       [3145728,   73784],\n",
       "       [3407872,   74105],\n",
       "       [3670016,   74423],\n",
       "       [3932160,   74743],\n",
       "       [4194304,   75062]])"
      ]
     },
     "execution_count": 39,
     "metadata": {},
     "output_type": "execute_result"
    }
   ],
   "source": [
    "root2['CPL'][\"chunk_id\"][:]"
   ]
  },
  {
   "cell_type": "code",
   "execution_count": 40,
   "metadata": {},
   "outputs": [
    {
     "data": {
      "text/plain": [
       "array([[ -118.18983 ,    34.908337, 12611.171   ],\n",
       "       [ -118.18981 ,    34.908337, 12641.127   ],\n",
       "       [ -118.189804,    34.908333, 12671.086   ],\n",
       "       ...,\n",
       "       [ -118.58397 ,    34.709915,  6686.8984  ],\n",
       "       [ -118.583916,    34.709904,  7586.284   ],\n",
       "       [ -118.58288 ,    34.709705, 24494.723   ]], dtype=float32)"
      ]
     },
     "execution_count": 40,
     "metadata": {},
     "output_type": "execute_result"
    }
   ],
   "source": [
    "root2['CPL'][\"location\"][:]"
   ]
  },
  {
   "cell_type": "code",
   "execution_count": 41,
   "metadata": {},
   "outputs": [
    {
     "data": {
      "text/plain": [
       "array([   0,    0,    0, ..., 5401, 5401, 5401], dtype=int32)"
      ]
     },
     "execution_count": 41,
     "metadata": {},
     "output_type": "execute_result"
    }
   ],
   "source": [
    "root2['CPL'][\"time\"][:]"
   ]
  },
  {
   "cell_type": "code",
   "execution_count": 42,
   "metadata": {},
   "outputs": [
    {
     "data": {
      "text/plain": [
       "array([ 7.7530061e-04, -2.5145346e-04, -7.0659170e-04, ...,\n",
       "        2.0124032e-06,  1.4174973e-04, -6.7999674e-04], dtype=float32)"
      ]
     },
     "execution_count": 42,
     "metadata": {},
     "output_type": "execute_result"
    }
   ],
   "source": [
    "root2['CPL'][\"value\"][\"ref\"][:]"
   ]
  },
  {
   "cell_type": "code",
   "execution_count": 43,
   "metadata": {},
   "outputs": [
    {
     "data": {
      "text/plain": [
       "array([1744, 1744, 1744, 1744, 1744, 1744, 1744, 1744], dtype=int32)"
      ]
     },
     "execution_count": 43,
     "metadata": {},
     "output_type": "execute_result"
    }
   ],
   "source": [
    "root2['CPL'][\"time\"][1405001:1405009]"
   ]
  },
  {
   "cell_type": "code",
   "execution_count": null,
   "metadata": {},
   "outputs": [],
   "source": []
  },
  {
   "cell_type": "code",
   "execution_count": null,
   "metadata": {},
   "outputs": [],
   "source": []
  }
 ],
 "metadata": {
  "kernelspec": {
   "display_name": "itsc-fcx",
   "language": "python",
   "name": "python3"
  },
  "language_info": {
   "codemirror_mode": {
    "name": "ipython",
    "version": 3
   },
   "file_extension": ".py",
   "mimetype": "text/x-python",
   "name": "python",
   "nbconvert_exporter": "python",
   "pygments_lexer": "ipython3",
   "version": "3.9.15"
  },
  "orig_nbformat": 4,
  "vscode": {
   "interpreter": {
    "hash": "df65607ca24a7d4c45508248974a69f3c6565a1c8e3a584a3452686f5791d65e"
   }
  }
 },
 "nbformat": 4,
 "nbformat_minor": 2
}
