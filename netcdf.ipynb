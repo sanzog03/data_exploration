{
 "cells": [
  {
   "cell_type": "code",
   "execution_count": 4,
   "metadata": {},
   "outputs": [],
   "source": [
    "import zarr\n",
    "import xarray as xr\n",
    "import numpy as np\n",
    "from boto3 import client as boto_client"
   ]
  },
  {
   "cell_type": "code",
   "execution_count": 5,
   "metadata": {},
   "outputs": [],
   "source": [
    "\n",
    "def CRSaccess(fname, s3bucket=False, Verb=False):\n",
    "    \"\"\"\n",
    "    Access the CRS file\n",
    "    Return CRS filename with path (absolute path) for \"local\" access\n",
    "    Return CRS data as object for \"cloud access\"\n",
    "    Either way, the return value can be open by Xarray as netcdf file object\n",
    "    \"\"\"\n",
    "\n",
    "    print(\"\\%% Accessing data from Cloud. This may take a little time...\\n\")\n",
    "    s3 = boto_client('s3')\n",
    "    fileobj = s3.get_object(Bucket=s3bucket, Key=fname)\n",
    "    fileCRS = fileobj['Body'].read()\n",
    "\n",
    "    return fileCRS\n",
    "\n",
    "def add24hr(hr):\n",
    "    \"\"\"Correction of time in CRS for going over the next day in UTC\"\"\"\n",
    "    b = np.where(hr < hr[0])\n",
    "    hr[b] = hr[b] + 24\n",
    "    return hr"
   ]
  },
  {
   "cell_type": "code",
   "execution_count": 6,
   "metadata": {},
   "outputs": [],
   "source": [
    "folder = f\"/tmp/crs_olympex/zarr/11111111\"\n",
    "bucket_name=\"ghrc-fcx-field-campaigns-szg\"\n",
    "s3_raw_file_key= \"Olympex/instrument-raw-data/crs/olympex_CRS_20151110_172815-20151110_175946_2_v01a.nc\"\n",
    "file = s3_raw_file_key\n",
    "\n",
    "date = file.split(\"_\")[2]\n",
    "base_time = np.datetime64('{}-{}-{}'.format(date[:4], date[4:6], date[6:]))"
   ]
  },
  {
   "cell_type": "code",
   "execution_count": 7,
   "metadata": {},
   "outputs": [
    {
     "name": "stdout",
     "output_type": "stream",
     "text": [
      "\\%% Accessing data from Cloud. This may take a little time...\n",
      "\n"
     ]
    }
   ],
   "source": [
    "# read from s3 url (file) in s3 bucket.\n",
    "fileObj = CRSaccess(file, s3bucket=bucket_name)\n",
    "\n",
    "# open dataset.\n",
    "with xr.open_dataset(fileObj, decode_cf=False) as ds:\n",
    "    #### time correction start\n",
    "    # !!! (logic????) added for time correction for time (hour) over 24h UTC\n",
    "    hr = add24hr(ds['timed'].values)\n",
    "\n",
    "    # !!! addition of date to all time rows i.e. {date + time} for all rows.\n",
    "    # Note: \"delta\" is an intermediatery before final time correction.\n",
    "    delta = (hr * 3600).astype('timedelta64[s]') + base_time\n",
    "    # now delta will have this sort of value: ['2015-11-10T17:28:16' '2015-11-10T17:28:16' '2015-11-10T17:28:17' ...\n",
    "    # '2015-11-10T18:01:05' '2015-11-10T18:01:05' '2015-11-10T18:01:05']\n",
    "    \n",
    "    #### time correction end\n",
    "    \n",
    "    # Data COLS EXTRACT \n",
    "    ref = ds[\"zku\"].values #CRS radar reflectivity\n",
    "    rad_range = ds[\"range\"].values\n",
    "\n",
    "    lat = ds['lat'].values\n",
    "    lon = ds['lon'].values\n",
    "    alt = ds['altitude'].values # altitude of aircraft in meters\n",
    "    roll = ds[\"roll\"].values\n",
    "    pitch = ds[\"pitch\"].values\n",
    "    head = ds[\"head\"].values\n",
    "num_col = ref.shape[0] # number of cols, say 7903\n",
    "num_row = ref.shape[1] # number of rows, say 757"
   ]
  },
  {
   "cell_type": "code",
   "execution_count": 13,
   "metadata": {},
   "outputs": [
    {
     "data": {
      "text/plain": [
       "60.44812"
      ]
     },
     "execution_count": 13,
     "metadata": {},
     "output_type": "execute_result"
    }
   ],
   "source": [
    "ref[np.isfinite(ref)].max()\n"
   ]
  },
  {
   "cell_type": "code",
   "execution_count": 14,
   "metadata": {},
   "outputs": [
    {
     "data": {
      "text/plain": [
       "-1103.8334"
      ]
     },
     "execution_count": 14,
     "metadata": {},
     "output_type": "execute_result"
    }
   ],
   "source": [
    "ref[np.isfinite(ref)].min()\n"
   ]
  },
  {
   "cell_type": "code",
   "execution_count": null,
   "metadata": {},
   "outputs": [],
   "source": []
  }
 ],
 "metadata": {
  "kernelspec": {
   "display_name": "itsc-fcx-n",
   "language": "python",
   "name": "python3"
  },
  "language_info": {
   "codemirror_mode": {
    "name": "ipython",
    "version": 3
   },
   "file_extension": ".py",
   "mimetype": "text/x-python",
   "name": "python",
   "nbconvert_exporter": "python",
   "pygments_lexer": "ipython3",
   "version": "3.10.6"
  },
  "orig_nbformat": 4,
  "vscode": {
   "interpreter": {
    "hash": "499a5fb3fec32ad917a576b01fa5ecfdef941a73b5948d57fad4fa0146a62e96"
   }
  }
 },
 "nbformat": 4,
 "nbformat_minor": 2
}
