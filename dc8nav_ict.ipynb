{
 "cells": [
  {
   "cell_type": "code",
   "execution_count": 6,
   "metadata": {},
   "outputs": [
    {
     "name": "stderr",
     "output_type": "stream",
     "text": [
      "/home/sanjog/miniconda3/envs/itsc-fcx-n/lib/python3.10/site-packages/icartt/dataset.py:290: UserWarning: Normal comments: required keyword PLATFORM is missing.\n",
      "  warnings.warn(\n",
      "/home/sanjog/miniconda3/envs/itsc-fcx-n/lib/python3.10/site-packages/icartt/dataset.py:692: UserWarning: Number of header lines suggested in line 1 (75) do not match actual header lines read (76)\n",
      "  warnings.warn(\n"
     ]
    }
   ],
   "source": [
    "import icartt\n",
    "import pathlib\n",
    "\n",
    "# load a new dataset from an existing file\n",
    "# wd = pathlib.Path(__file__).parent\n",
    "# ict = icartt.Dataset(wd / \"..\" / \"example_data\" / \"expect_ok\" / \"DC8-20160517.ict\")\n",
    "# ict = icartt.Dataset(\"CPEXAW_MetNav_DC8_20210817_R0.ict\")\n",
    "ict = icartt.Dataset(\"./test_data/nav/CPEXAW_MetNav_DC8_20210817_R0.ict\")\n",
    "\n",
    "# read some metadata\n",
    "ict.PIName\n",
    "ict.PIAffiliation\n",
    "ict.missionName\n",
    "ict.dataSourceDescription\n",
    "ict.dataID\n",
    "ict.locationID\n",
    "\n",
    "# list variable names\n",
    "var_names = [x for x in ict.variables]\n",
    "\n",
    "# # some info on a variable\n",
    "# ict.variables[\"Alt_ft\"].units\n",
    "# ict.variables[\"Alt_ft\"].miss\n",
    "\n",
    "# # get data for variable 'UTC':\n",
    "# ict.data[\"UTC\"]\n",
    "\n",
    "# # get all data (NumPy array):\n",
    "# ict.data[:]\n",
    "\n",
    "# # get the altitude in feet for those data where UTC < 86400.0:\n",
    "# ict.data[ict.data[\"UTC\"] < 86400.0][\"Alt_ft\"]"
   ]
  },
  {
   "cell_type": "code",
   "execution_count": 7,
   "metadata": {},
   "outputs": [
    {
     "data": {
      "text/plain": [
       "['Time_Start',\n",
       " 'Day_Of_Year',\n",
       " 'Latitude',\n",
       " 'Longitude',\n",
       " 'MSL_GPS_Altitude',\n",
       " 'HAE_GPS_Altitude',\n",
       " 'Pressure_Altitude',\n",
       " 'Radar_Altitude',\n",
       " 'Ground_Speed',\n",
       " 'True_Air_Speed',\n",
       " 'Indicated_Air_Speed',\n",
       " 'Mach_Number',\n",
       " 'Vertical_Speed',\n",
       " 'True_Heading',\n",
       " 'Track_Angle',\n",
       " 'Drift_Angle',\n",
       " 'Pitch_Angle',\n",
       " 'Roll_Angle',\n",
       " 'Static_Air_Temp',\n",
       " 'Potential_Temp',\n",
       " 'Dew_Point',\n",
       " 'Total_Air_Temp',\n",
       " 'IR_Surf_Temp',\n",
       " 'Static_Pressure',\n",
       " 'Cabin_Pressure',\n",
       " 'Wind_Speed',\n",
       " 'Wind_Direction',\n",
       " 'Solar_Zenith_Angle',\n",
       " 'Aircraft_Sun_Elevation',\n",
       " 'Sun_Azimuth',\n",
       " 'Aircraft_Sun_Azimuth',\n",
       " 'Mixing_Ratio',\n",
       " 'Part_Press_Water_Vapor',\n",
       " 'Sat_Vapor_Press_H2O',\n",
       " 'Sat_Vapor_Press_Ice',\n",
       " 'Relative_Humidity']"
      ]
     },
     "execution_count": 7,
     "metadata": {},
     "output_type": "execute_result"
    }
   ],
   "source": [
    "var_names"
   ]
  },
  {
   "cell_type": "code",
   "execution_count": 10,
   "metadata": {},
   "outputs": [
    {
     "name": "stdout",
     "output_type": "stream",
     "text": [
      "Latitude:  deg\n",
      "Longitude:  deg\n",
      "Radar_Altitude:  ft\n",
      "Roll_Angle:  deg +-180\n",
      "Pitch_Angle:  deg +-180\n",
      "True_Heading:  deg 0-360\n",
      "Day_Of_Year:  day\n",
      "Time_Start:  seconds (from midnight UTC)\n",
      "Latitude:  [34.6327332 34.6327327 34.6327315 ... 17.6996029 17.6996029 17.6996031]\n",
      "Longitude:  [-118.0740712 -118.0740859 -118.0741072 ...  -64.7983236  -64.7983236\n",
      "  -64.7983236]\n",
      "Radar_Altitude:  [4.  3.  4.  ... 5.5 5.5 5.5]\n",
      "Roll_Angle:  [-0.14 -0.15 -0.11 ...  0.88  0.88  0.88]\n",
      "Pitch_Angle:  [-0.55 -0.53 -0.52 ... -1.29 -1.29 -1.29]\n",
      "True_Heading:  [267.92 267.85 267.59 ...  84.7   84.7   84.7 ]\n",
      "Day_Of_Year:  [229. 229. 229. ... 229. 229. 229.]\n",
      "Time_Start:  [51118. 51119. 51120. ... 75265. 75266. 75267.]\n"
     ]
    }
   ],
   "source": [
    "#some info on a variable\n",
    "\n",
    "Latitude = ict.variables[\"Latitude\"]\n",
    "Longitude = ict.variables[\"Longitude\"]\n",
    "Radar_Altitude = ict.variables[\"Radar_Altitude\"]\n",
    "Roll_Angle = ict.variables[\"Roll_Angle\"]\n",
    "Pitch_Angle = ict.variables[\"Pitch_Angle\"]\n",
    "True_Heading = ict.variables[\"True_Heading\"]\n",
    "Day_Of_Year = ict.variables[\"Day_Of_Year\"]\n",
    "Time_Start = ict.variables[\"Time_Start\"]\n",
    "\n",
    "print(\"Latitude: \", Latitude.units)\n",
    "print(\"Longitude: \", Longitude.units)\n",
    "print(\"Radar_Altitude: \", Radar_Altitude.units)\n",
    "\n",
    "print(\"Roll_Angle: \", Roll_Angle.units)\n",
    "print(\"Pitch_Angle: \", Pitch_Angle.units)\n",
    "print(\"True_Heading: \", True_Heading.units)\n",
    "\n",
    "print(\"Day_Of_Year: \", Day_Of_Year.units)\n",
    "print(\"Time_Start: \", Time_Start.units)\n",
    "\n",
    "\n",
    "Latitude_data = ict.data[\"Latitude\"]\n",
    "Longitude_data = ict.data[\"Longitude\"]\n",
    "Radar_Altitude_data = ict.data[\"Radar_Altitude\"]\n",
    "Roll_Angle_data = ict.data[\"Roll_Angle\"]\n",
    "Pitch_Angle_data = ict.data[\"Pitch_Angle\"]\n",
    "True_Heading_data = ict.data[\"True_Heading\"]\n",
    "Day_Of_Year_data = ict.data[\"Day_Of_Year\"]\n",
    "Time_Start_data = ict.data[\"Time_Start\"]\n",
    "\n",
    "print(\"Latitude: \", Latitude_data)\n",
    "print(\"Longitude: \", Longitude_data)\n",
    "print(\"Radar_Altitude: \", Radar_Altitude_data)\n",
    "\n",
    "print(\"Roll_Angle: \", Roll_Angle_data)\n",
    "print(\"Pitch_Angle: \", Pitch_Angle_data)\n",
    "print(\"True_Heading: \", True_Heading_data)\n",
    "\n",
    "print(\"Day_Of_Year: \", Day_Of_Year_data)\n",
    "print(\"Time_Start: \", Time_Start_data)\n",
    "\n",
    "# # get data for variable 'UTC':\n",
    "# ict.data[\"UTC\"]\n",
    "\n",
    "# # get all data (NumPy array):\n",
    "# ict.data[:]\n",
    "\n",
    "# # get the altitude in feet for those data where UTC < 86400.0:\n",
    "# ict.data[ict.data[\"UTC\"] < 86400.0][\"Alt_ft\"]"
   ]
  },
  {
   "cell_type": "code",
   "execution_count": 39,
   "metadata": {},
   "outputs": [
    {
     "data": {
      "text/plain": [
       "'2021-08-17T14:11:58'"
      ]
     },
     "execution_count": 39,
     "metadata": {},
     "output_type": "execute_result"
    }
   ],
   "source": [
    "import datetime\n",
    "year = 2021\n",
    "\n",
    "def get_iso_datetime(year, day_of_year, seconds_from_midnight_utc):\n",
    "    \"\"\"returns iso formatted date time\n",
    "\n",
    "    Args:\n",
    "        year (number): year\n",
    "        day_of_year (number): day of year, 1-365\n",
    "        seconds_from_midnight_utc (number): seconds from midnight utc wrt day of year\n",
    "\n",
    "    Returns:\n",
    "        string: iso formatted date time\n",
    "    \"\"\"\n",
    "    time = datetime.timedelta(milliseconds=seconds_from_midnight_utc*1000)\n",
    "    date = datetime.datetime(year, 1, 1) + datetime.timedelta(day_of_year - 1)\n",
    "    combined_datetime = date + time\n",
    "    return combined_datetime.isoformat(sep='T', timespec='auto')\n",
    "    \n",
    "\n",
    "res = get_iso_datetime(year, Day_Of_Year_data[0], Time_Start_data[0])\n",
    "res"
   ]
  },
  {
   "cell_type": "code",
   "execution_count": 34,
   "metadata": {},
   "outputs": [
    {
     "data": {
      "text/plain": [
       "numpy.ndarray"
      ]
     },
     "execution_count": 34,
     "metadata": {},
     "output_type": "execute_result"
    }
   ],
   "source": [
    "type(Time_Start_data)"
   ]
  },
  {
   "cell_type": "code",
   "execution_count": 40,
   "metadata": {},
   "outputs": [],
   "source": [
    "import numpy as np\n",
    "array3 = np.vectorize(get_iso_datetime)(year, Day_Of_Year_data, Time_Start_data)"
   ]
  },
  {
   "cell_type": "code",
   "execution_count": 41,
   "metadata": {},
   "outputs": [
    {
     "data": {
      "text/plain": [
       "array(['2021-08-17T14:11:58', '2021-08-17T14:11:59',\n",
       "       '2021-08-17T14:12:00', ..., '2021-08-17T20:54:25',\n",
       "       '2021-08-17T20:54:26', '2021-08-17T20:54:27'], dtype='<U19')"
      ]
     },
     "execution_count": 41,
     "metadata": {},
     "output_type": "execute_result"
    }
   ],
   "source": [
    "array3"
   ]
  },
  {
   "cell_type": "code",
   "execution_count": 42,
   "metadata": {},
   "outputs": [
    {
     "name": "stdout",
     "output_type": "stream",
     "text": [
      "(24150,)\n",
      "(24150,)\n",
      "(24150,)\n"
     ]
    }
   ],
   "source": [
    "print(array3.shape)\n",
    "print(Day_Of_Year_data.shape)\n",
    "print(Time_Start_data.shape)"
   ]
  },
  {
   "attachments": {},
   "cell_type": "markdown",
   "metadata": {},
   "source": [
    "### EXTRAS"
   ]
  },
  {
   "cell_type": "code",
   "execution_count": 45,
   "metadata": {},
   "outputs": [],
   "source": [
    "infile = \"CPEX-AW/instrument-raw-data/nav_dc8/CPEXAW_MetNav_DC8_20210817_R0.ict\""
   ]
  },
  {
   "cell_type": "code",
   "execution_count": 49,
   "metadata": {},
   "outputs": [
    {
     "name": "stdout",
     "output_type": "stream",
     "text": [
      "CPEXAW_MetNav_DC8_20210817_R0\n",
      "CPEXAW_MetNav_DC8_20210817_R0\n"
     ]
    }
   ],
   "source": [
    "import os\n",
    "output_name = os.path.splitext(os.path.basename(infile))[0]\n",
    "output_name_wo_time = output_name.split(\"-\")[0]\n",
    "print(output_name)\n",
    "print(output_name_wo_time)"
   ]
  },
  {
   "cell_type": "code",
   "execution_count": null,
   "metadata": {},
   "outputs": [],
   "source": []
  }
 ],
 "metadata": {
  "kernelspec": {
   "display_name": "itsc-fcx-n",
   "language": "python",
   "name": "python3"
  },
  "language_info": {
   "codemirror_mode": {
    "name": "ipython",
    "version": 3
   },
   "file_extension": ".py",
   "mimetype": "text/x-python",
   "name": "python",
   "nbconvert_exporter": "python",
   "pygments_lexer": "ipython3",
   "version": "3.10.6"
  },
  "orig_nbformat": 4
 },
 "nbformat": 4,
 "nbformat_minor": 2
}
