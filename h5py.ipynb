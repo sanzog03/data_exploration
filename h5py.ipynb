{
 "cells": [
  {
   "cell_type": "code",
   "execution_count": 8,
   "metadata": {},
   "outputs": [],
   "source": [
    "import s3fs\n",
    "import h5py\n",
    "import numpy as np"
   ]
  },
  {
   "cell_type": "code",
   "execution_count": 9,
   "metadata": {},
   "outputs": [],
   "source": [
    "file = \"s3://ghrc-fcx-field-campaigns-szg/Olympex/instrument-raw-data/cpl/olympex_radex_CPL_ATB_16915_20151109.hdf5\"\n",
    "date = file.split(\"_\")[5].split(\".\")[0]\n",
    "base_time = np.datetime64('{}-{}-{}'.format(date[:4], date[4:6], date[6:]))"
   ]
  },
  {
   "cell_type": "code",
   "execution_count": 14,
   "metadata": {},
   "outputs": [
    {
     "name": "stdout",
     "output_type": "stream",
     "text": [
      "900  x  5401\n"
     ]
    }
   ],
   "source": [
    "fs = s3fs.S3FileSystem(anon=False)\n",
    "with fs.open(file) as cplfile:\n",
    "    with h5py.File(cplfile, 'r') as f1:\n",
    "        \n",
    "        # atb1064 = f1['ATB_1064'][()]\n",
    "        # AltBin = f1['Bin_Alt'][()] * 1000    #[km] ==> [m]\n",
    "        \n",
    "        atb = f1['ATB_1064'][()]\n",
    "        rad_range = f1['Bin_Alt'][()] * 1000    #[km] ==> [m]\n",
    "        \n",
    "        # print(ref)\n",
    "        \n",
    "        # lon  = f1['Longitude'][()]\n",
    "        # lat  = f1['Latitude'][()]\n",
    "        # alt  = f1['Plane_Alt'][()] * 1000   #[km] ==> [m]\n",
    "        # roll = f1['Plane_Roll'][()] * to_rad\n",
    "        # head = f1['Plane_Heading'][()] * to_rad\n",
    "        # pitch = f1['Plane_Pitch'][()] * to_rad\n",
    "        \n",
    "        # delta = [h*3600+m*60+s for (h,m,s) in \n",
    "        #         zip(f1['Hour'][()], f1['Minute'][()], f1['Second'][()])]\n",
    "        \n",
    "        delta = [(base_time + (h*3600+m*60+s).astype('timedelta64[s]')) for (h,m,s) in \n",
    "        zip(f1['Hour'][()], f1['Minute'][()], f1['Second'][()])] #delta is in seconds\n",
    "        \n",
    "        # print(delta)\n",
    "\n",
    "num_col = atb.shape[0] # number of cols, say 7903\n",
    "num_row = atb.shape[1] # number of rows, say 757\n",
    "\n",
    "print(num_row, \" x \", num_col)"
   ]
  },
  {
   "cell_type": "code",
   "execution_count": 26,
   "metadata": {},
   "outputs": [
    {
     "data": {
      "text/plain": [
       "array([[ 0.00000000e+00,  0.00000000e+00,  0.00000000e+00, ...,\n",
       "         2.49735646e-04, -1.27640556e-03, -1.21987316e-03],\n",
       "       [ 0.00000000e+00,  0.00000000e+00,  0.00000000e+00, ...,\n",
       "         4.13517079e-04,  5.29100769e-04, -1.73292544e-03],\n",
       "       [ 0.00000000e+00,  0.00000000e+00,  0.00000000e+00, ...,\n",
       "         5.82839075e-04, -1.56349539e-03, -2.59784148e-03],\n",
       "       ...,\n",
       "       [ 0.00000000e+00,  0.00000000e+00,  0.00000000e+00, ...,\n",
       "        -6.10993539e-05, -1.01486919e-03, -2.10252353e-03],\n",
       "       [ 0.00000000e+00,  0.00000000e+00,  0.00000000e+00, ...,\n",
       "         1.01251731e-03,  3.43705805e-04,  1.11119620e-03],\n",
       "       [ 0.00000000e+00,  0.00000000e+00,  0.00000000e+00, ...,\n",
       "        -1.00433087e-03,  2.53349698e-04, -6.79996723e-04]])"
      ]
     },
     "execution_count": 26,
     "metadata": {},
     "output_type": "execute_result"
    }
   ],
   "source": [
    "atb"
   ]
  },
  {
   "cell_type": "code",
   "execution_count": 17,
   "metadata": {},
   "outputs": [
    {
     "data": {
      "text/plain": [
       "(5401, 900)"
      ]
     },
     "execution_count": 17,
     "metadata": {},
     "output_type": "execute_result"
    }
   ],
   "source": [
    "atb.shape\n"
   ]
  },
  {
   "cell_type": "code",
   "execution_count": 18,
   "metadata": {},
   "outputs": [
    {
     "data": {
      "text/plain": [
       "(4860900,)"
      ]
     },
     "execution_count": 18,
     "metadata": {},
     "output_type": "execute_result"
    }
   ],
   "source": [
    "atb.flatten().shape"
   ]
  },
  {
   "cell_type": "code",
   "execution_count": 19,
   "metadata": {},
   "outputs": [
    {
     "data": {
      "text/plain": [
       "4860900"
      ]
     },
     "execution_count": 19,
     "metadata": {},
     "output_type": "execute_result"
    }
   ],
   "source": [
    "5401 * 900"
   ]
  },
  {
   "cell_type": "code",
   "execution_count": 20,
   "metadata": {},
   "outputs": [
    {
     "data": {
      "text/plain": [
       "array([[ 0.00000000e+00,  0.00000000e+00,  0.00000000e+00, ...,\n",
       "         2.49735646e-04, -1.27640556e-03, -1.21987316e-03],\n",
       "       [ 0.00000000e+00,  0.00000000e+00,  0.00000000e+00, ...,\n",
       "         4.13517079e-04,  5.29100769e-04, -1.73292544e-03],\n",
       "       [ 0.00000000e+00,  0.00000000e+00,  0.00000000e+00, ...,\n",
       "         5.82839075e-04, -1.56349539e-03, -2.59784148e-03],\n",
       "       ...,\n",
       "       [ 0.00000000e+00,  0.00000000e+00,  0.00000000e+00, ...,\n",
       "        -6.10993539e-05, -1.01486919e-03, -2.10252353e-03],\n",
       "       [ 0.00000000e+00,  0.00000000e+00,  0.00000000e+00, ...,\n",
       "         1.01251731e-03,  3.43705805e-04,  1.11119620e-03],\n",
       "       [ 0.00000000e+00,  0.00000000e+00,  0.00000000e+00, ...,\n",
       "        -1.00433087e-03,  2.53349698e-04, -6.79996723e-04]])"
      ]
     },
     "execution_count": 20,
     "metadata": {},
     "output_type": "execute_result"
    }
   ],
   "source": [
    "atb"
   ]
  },
  {
   "cell_type": "code",
   "execution_count": 22,
   "metadata": {},
   "outputs": [],
   "source": [
    "fatb = atb.flatten()\n"
   ]
  },
  {
   "cell_type": "code",
   "execution_count": 23,
   "metadata": {},
   "outputs": [
    {
     "data": {
      "text/plain": [
       "array([0.00000000e+00, 0.00000000e+00, 0.00000000e+00, ...,\n",
       "       3.52801878e-06, 3.18282994e-06, 4.53155637e-06])"
      ]
     },
     "execution_count": 23,
     "metadata": {},
     "output_type": "execute_result"
    }
   ],
   "source": [
    "fatb[10000: 1000001]"
   ]
  },
  {
   "cell_type": "code",
   "execution_count": 27,
   "metadata": {},
   "outputs": [
    {
     "data": {
      "text/plain": [
       "-0.01644991051878615"
      ]
     },
     "execution_count": 27,
     "metadata": {},
     "output_type": "execute_result"
    }
   ],
   "source": [
    "fatb.min()"
   ]
  },
  {
   "cell_type": "code",
   "execution_count": 28,
   "metadata": {},
   "outputs": [
    {
     "data": {
      "text/plain": [
       "2.6162068566496197"
      ]
     },
     "execution_count": 28,
     "metadata": {},
     "output_type": "execute_result"
    }
   ],
   "source": [
    "fatb.max()"
   ]
  },
  {
   "cell_type": "code",
   "execution_count": null,
   "metadata": {},
   "outputs": [],
   "source": []
  }
 ],
 "metadata": {
  "kernelspec": {
   "display_name": "itsc-fcx-n",
   "language": "python",
   "name": "python3"
  },
  "language_info": {
   "codemirror_mode": {
    "name": "ipython",
    "version": 3
   },
   "file_extension": ".py",
   "mimetype": "text/x-python",
   "name": "python",
   "nbconvert_exporter": "python",
   "pygments_lexer": "ipython3",
   "version": "3.10.6"
  },
  "orig_nbformat": 4,
  "vscode": {
   "interpreter": {
    "hash": "499a5fb3fec32ad917a576b01fa5ecfdef941a73b5948d57fad4fa0146a62e96"
   }
  }
 },
 "nbformat": 4,
 "nbformat_minor": 2
}
