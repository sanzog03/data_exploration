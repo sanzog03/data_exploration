{
 "cells": [
  {
   "cell_type": "code",
   "execution_count": 1,
   "metadata": {},
   "outputs": [],
   "source": [
    "import zarr\n",
    "import xarray as xr\n",
    "import numpy as np\n",
    "from boto3 import client as boto_client "
   ]
  },
  {
   "cell_type": "code",
   "execution_count": 2,
   "metadata": {},
   "outputs": [],
   "source": [
    "chunk = 262144\n",
    "to_rad = np.pi / 180\n",
    "to_deg = 180 / np.pi\n",
    "\n",
    "campaign = 'Olympex'\n",
    "collection = \"AirborneRadar\"\n",
    "dataset = \"gpmValidationOlympexcrs\"\n",
    "variables = [\"ref\"]\n",
    "renderers = [\"point_cloud\"]"
   ]
  },
  {
   "cell_type": "code",
   "execution_count": 3,
   "metadata": {},
   "outputs": [],
   "source": [
    "def down_vector(roll, pitch, head):\n",
    "    x = np.sin(roll) * np.cos(head) + np.cos(roll) * np.sin(pitch) * np.sin(head)\n",
    "    y = -np.sin(roll) * np.sin(head) + np.cos(roll) * np.sin(pitch) * np.cos(head)\n",
    "    z = -np.cos(roll) * np.cos(pitch)\n",
    "    return (x, y, z)\n",
    "\n",
    "def CRSaccess(fname, s3bucket=False, Verb=False):\n",
    "    \"\"\"\n",
    "    Access the CRS file\n",
    "    Return CRS filename with path (absolute path) for \"local\" access\n",
    "    Return CRS data as object for \"cloud access\"\n",
    "    Either way, the return value can be open by Xarray as netcdf file object\n",
    "    \"\"\"\n",
    "\n",
    "    print(\"\\%% Accessing data from Cloud. This may take a little time...\\n\")\n",
    "    s3 = boto_client('s3')\n",
    "    fileobj = s3.get_object(Bucket=s3bucket, Key=fname)\n",
    "    fileCRS = fileobj['Body'].read()\n",
    "\n",
    "    return fileCRS\n",
    "\n",
    "def add24hr(hr):\n",
    "    \"\"\"Correction of time in CRS for going over the next day in UTC\"\"\"\n",
    "    b = np.where(hr < hr[0])\n",
    "    hr[b] = hr[b] + 24\n",
    "    return hr\n",
    "\n"
   ]
  },
  {
   "cell_type": "code",
   "execution_count": 4,
   "metadata": {},
   "outputs": [],
   "source": [
    "def ingest(folder, file, s3bucket):\n",
    "    \"\"\"\n",
    "    Converts Level 1B crs data from s3 to zarr file and then stores it in the provided folder\n",
    "    Args:\n",
    "        folder (string): name to hold the raw files.\n",
    "        file (string): the s3 url to the raw file.\n",
    "    \"\"\"\n",
    "    store = zarr.DirectoryStore(folder)\n",
    "    root = zarr.group(store=store)\n",
    "    \n",
    "    # !!! Define dataset for necessary generic data.\n",
    "    z_chunk_id = root.create_dataset('chunk_id', shape=(0, 2), chunks=None, dtype=np.int64)\n",
    "    z_location = root.create_dataset('location', shape=(0, 3), chunks=(chunk, None), dtype=np.float32)\n",
    "    z_time = root.create_dataset('time', shape=(0), chunks=(chunk), dtype=np.int32)\n",
    "\n",
    "    # !!! Define group for value\n",
    "    z_vars = root.create_group('value')\n",
    "    # !!! Define dataset for actual value that will get plotted.\n",
    "    z_ref = z_vars.create_dataset('ref', shape=(0), chunks=(chunk), dtype=np.float32)\n",
    "\n",
    "    # !!! define a empty array. FOR WHAT??? DONOT HAVE ANY IDEA.\n",
    "    n_time = np.array([], dtype=np.int64)\n",
    "\n",
    "    # !!! Extract the date information from the file name. The date is the date when the data was collected from the instrument.\n",
    "    date = file.split(\"_\")[2]\n",
    "    base_time = np.datetime64('{}-{}-{}'.format(date[:4], date[4:6], date[6:]))\n",
    "\n",
    "    print(\"Accessing file from S3 \", file)\n",
    "\n",
    "    # read from s3 url (file) in s3 bucket.\n",
    "    fileObj = CRSaccess(file, s3bucket=s3bucket)\n",
    "\n",
    "    # open dataset.\n",
    "    with xr.open_dataset(fileObj, decode_cf=False) as ds:\n",
    "        #### time correction start\n",
    "        # !!! (logic????) added for time correction for time (hour) over 24h UTC\n",
    "        hr = add24hr(ds['timed'].values)\n",
    "\n",
    "        # !!! addition of date to all time rows i.e. {date + time} for all rows.\n",
    "        # Note: \"delta\" is an intermediatery before final time correction.\n",
    "        delta = (hr * 3600).astype('timedelta64[s]') + base_time\n",
    "        # now delta will have this sort of value: ['2015-11-10T17:28:16' '2015-11-10T17:28:16' '2015-11-10T17:28:17' ...\n",
    "        # '2015-11-10T18:01:05' '2015-11-10T18:01:05' '2015-11-10T18:01:05']\n",
    "        \n",
    "        #### time correction end\n",
    "        \n",
    "        # Data COLS EXTRACT \n",
    "        ref = ds[\"zku\"].values #CRS radar reflectivity\n",
    "        rad_range = ds[\"range\"].values\n",
    "\n",
    "        lat = ds['lat'].values\n",
    "        lon = ds['lon'].values\n",
    "        alt = ds['altitude'].values # altitude of aircraft in meters\n",
    "        roll = ds[\"roll\"].values\n",
    "        pitch = ds[\"pitch\"].values\n",
    "        head = ds[\"head\"].values\n",
    "    num_col = ref.shape[0] # number of cols, say 7903\n",
    "    num_row = ref.shape[1] # number of rows, say 757\n",
    "\n",
    "    ##### EXTRACTED COLS\n",
    "    # timed, lat, lon, alt, roll, pitch, head,\n",
    "    # ref(zku), rad_range(range)\n",
    "    #####\n",
    "\n",
    "    ##### data frame formation\n",
    "\n",
    "    ## repeat each value element consecutively row times. WHY???\n",
    "    delta = np.repeat(delta, num_row)\n",
    "    lon = np.repeat(lon, num_row)\n",
    "    lat = np.repeat(lat, num_row)\n",
    "    alt = np.repeat(alt, num_row)\n",
    "    roll = np.repeat(roll * to_rad, num_row)\n",
    "    pitch = np.repeat(pitch * to_rad, num_row)\n",
    "    head = np.repeat(head * to_rad, num_row)\n",
    "\n",
    "    ## repeat each value element consecutively col times\n",
    "    rad_range = np.tile(rad_range, num_col)\n",
    "    ## !!! REPEAT OTHER DATA WRT REF (THE MAIN THING TO PLOT), THEN FLATTEN THE REF.\n",
    "    ref = ref.flatten()\n",
    "\n",
    "    # time correction final\n",
    "    # !!! before subtraction, first the datetime is set to precision of seconds, then it is converted into int64\n",
    "    time = (delta - np.datetime64('1970-01-01')).astype('timedelta64[s]').astype(np.int64)\n",
    "\n",
    "    # !!! needed for {lon lat alt} correction with respect to rad range and roll, pitch, head value. Why is it necessary ???\n",
    "    x, y, z = down_vector(roll, pitch, head)\n",
    "    x = np.multiply(x, np.divide(rad_range, 111000 * np.cos(lat * to_rad)))\n",
    "    y = np.multiply(y, np.divide(rad_range, 111000))\n",
    "    z = np.multiply(z, rad_range)\n",
    "    lon = np.add(-x, lon)\n",
    "    lat = np.add(-y, lat)\n",
    "    alt = np.add(z, alt)\n",
    "\n",
    "    # !!! sort data by time\n",
    "    sort_idx = np.argsort(time) # returns indices that will sort the array\n",
    "    lon = lon[sort_idx]\n",
    "    lat = lat[sort_idx]\n",
    "    alt = alt[sort_idx]\n",
    "    ref = ref[sort_idx]\n",
    "    time = time[sort_idx]\n",
    "\n",
    "    # !!! Remove nan and infinite using mask\n",
    "    # check if ref is finite and alt value is greater than 1, element wise\n",
    "    # index mask to filter infinite ref value and alt value which is greater than 1\n",
    "    mask = np.logical_and(np.isfinite(ref), alt > 0)\n",
    "    lon = lon[mask]\n",
    "    lat = lat[mask]\n",
    "    alt = alt[mask]\n",
    "    ref = ref[mask]\n",
    "    time = time[mask]\n",
    "\n",
    "    ### !!! ZARR DATASETS POPULATION\n",
    "    # Now populate (append) the empty rows with modified data.\n",
    "    z_location.append(np.stack([lon, lat, alt], axis=-1)) #!!! first convert position info as [[lon, lat, alt], ....], before appending\n",
    "    z_ref.append(ref)\n",
    "    n_time = np.append(n_time, time) # Basically converts into array with single dim; very similar to spread operator.\n",
    "\n",
    "    idx = np.arange(0, n_time.size, chunk) # arange: Return evenly spaced values within a given interval. (start, stop, steps)\n",
    "    chunks = np.zeros(shape=(idx.size, 2), dtype=np.int64) # create zero array of given shape. here (indexsize x 2)\n",
    "    chunks[:, 0] = idx\n",
    "    chunks[:, 1] = n_time[idx]\n",
    "    z_chunk_id.append(chunks)\n",
    "    \n",
    "    epoch = np.min(n_time)\n",
    "    n_time = (n_time - epoch).astype(np.int32) ## why done this??? i.e. adding date to time information first, then later subtract datetime. \n",
    "    z_time.append(n_time)\n",
    "\n",
    "    # save it.\n",
    "    root.attrs.put({\n",
    "        \"campaign\": campaign,\n",
    "        \"collection\": collection,\n",
    "        \"dataset\": dataset,\n",
    "        \"variables\": variables,\n",
    "        \"renderers\": renderers,\n",
    "        \"epoch\": int(epoch)\n",
    "    })"
   ]
  },
  {
   "cell_type": "code",
   "execution_count": 18,
   "metadata": {},
   "outputs": [
    {
     "name": "stdout",
     "output_type": "stream",
     "text": [
      "Accessing file from S3  Olympex/instrument-raw-data/crs/olympex_CRS_20151110_172815-20151110_175946_2_v01a.nc\n",
      "\\%% Accessing data from Cloud. This may take a little time...\n",
      "\n"
     ]
    }
   ],
   "source": [
    "folder = f\"/tmp/crs_olympex/zarr/11111111\"\n",
    "bucket_name=\"ghrc-fcx-field-campaigns-szg\"\n",
    "s3_raw_file_key= \"Olympex/instrument-raw-data/crs/olympex_CRS_20151110_172815-20151110_175946_2_v01a.nc\"\n",
    "\n",
    "ingest(folder, s3_raw_file_key, bucket_name)"
   ]
  },
  {
   "attachments": {},
   "cell_type": "markdown",
   "metadata": {},
   "source": [
    "Read the written file"
   ]
  },
  {
   "cell_type": "code",
   "execution_count": 20,
   "metadata": {},
   "outputs": [
    {
     "ename": "AttributeError",
     "evalue": "'Tree' object has no attribute '_ipython_display_'",
     "output_type": "error",
     "traceback": [
      "\u001b[0;31m---------------------------------------------------------------------------\u001b[0m",
      "\u001b[0;31mAttributeError\u001b[0m                            Traceback (most recent call last)",
      "File \u001b[0;32m~/miniconda3/envs/itsc-fcx-n/lib/python3.10/site-packages/IPython/core/formatters.py:921\u001b[0m, in \u001b[0;36mIPythonDisplayFormatter.__call__\u001b[0;34m(self, obj)\u001b[0m\n\u001b[1;32m    919\u001b[0m method \u001b[39m=\u001b[39m get_real_method(obj, \u001b[39mself\u001b[39m\u001b[39m.\u001b[39mprint_method)\n\u001b[1;32m    920\u001b[0m \u001b[39mif\u001b[39;00m method \u001b[39mis\u001b[39;00m \u001b[39mnot\u001b[39;00m \u001b[39mNone\u001b[39;00m:\n\u001b[0;32m--> 921\u001b[0m     method()\n\u001b[1;32m    922\u001b[0m     \u001b[39mreturn\u001b[39;00m \u001b[39mTrue\u001b[39;00m\n",
      "File \u001b[0;32m~/miniconda3/envs/itsc-fcx-n/lib/python3.10/site-packages/zarr/util.py:538\u001b[0m, in \u001b[0;36mTreeViewer._ipython_display_\u001b[0;34m(self)\u001b[0m\n\u001b[1;32m    536\u001b[0m \u001b[39mdef\u001b[39;00m \u001b[39m_ipython_display_\u001b[39m(\u001b[39mself\u001b[39m):\n\u001b[1;32m    537\u001b[0m     tree \u001b[39m=\u001b[39m tree_widget(\u001b[39mself\u001b[39m\u001b[39m.\u001b[39mgroup, expand\u001b[39m=\u001b[39m\u001b[39mself\u001b[39m\u001b[39m.\u001b[39mexpand, level\u001b[39m=\u001b[39m\u001b[39mself\u001b[39m\u001b[39m.\u001b[39mlevel)\n\u001b[0;32m--> 538\u001b[0m     tree\u001b[39m.\u001b[39;49m_ipython_display_()\n\u001b[1;32m    539\u001b[0m     \u001b[39mreturn\u001b[39;00m tree\n",
      "\u001b[0;31mAttributeError\u001b[0m: 'Tree' object has no attribute '_ipython_display_'"
     ]
    },
    {
     "data": {
      "text/plain": [
       "/\n",
       " ├── chunk_id (3, 2) int64\n",
       " ├── location (646799, 3) float32\n",
       " ├── time (646799,) int32\n",
       " └── value\n",
       "     └── ref (646799,) float32"
      ]
     },
     "execution_count": 20,
     "metadata": {},
     "output_type": "execute_result"
    }
   ],
   "source": [
    "store = zarr.DirectoryStore(folder)\n",
    "root = zarr.group(store=store)\n",
    "root.tree()"
   ]
  },
  {
   "attachments": {},
   "cell_type": "markdown",
   "metadata": {},
   "source": [
    "### ROUGH"
   ]
  },
  {
   "cell_type": "code",
   "execution_count": null,
   "metadata": {},
   "outputs": [],
   "source": [
    "np.array([], dtype=np.int64)"
   ]
  },
  {
   "cell_type": "code",
   "execution_count": null,
   "metadata": {},
   "outputs": [],
   "source": [
    "date=\"20151009\"\n",
    "dt = np.datetime64('{}-{}-{}'.format(date[:4], date[4:6], date[6:]))\n",
    "dt"
   ]
  },
  {
   "cell_type": "code",
   "execution_count": null,
   "metadata": {},
   "outputs": [],
   "source": [
    "dt1 = np.datetime64('2022-01-01').astype('timedelta64[s]')\n",
    "print(dt1)\n",
    "dt2 = dt1.astype(np.int64)\n",
    "print(dt2)"
   ]
  },
  {
   "cell_type": "code",
   "execution_count": null,
   "metadata": {},
   "outputs": [],
   "source": [
    "ttt = ['2015-11-10T17:28:16', '2015-11-10T17:28:16', '2015-11-10T17:28:17', '2015-11-10T18:01:05', '2015-11-10T18:01:05', '2015-11-10T18:01:05']\n",
    "np.repeat(ttt, 2)"
   ]
  },
  {
   "cell_type": "code",
   "execution_count": null,
   "metadata": {},
   "outputs": [],
   "source": [
    "lon = np.array([1, 2, 3])\n",
    "lat = np.array([4, 5, 6])\n",
    "np.stack(([lon, lat]), axis=-1)"
   ]
  },
  {
   "cell_type": "code",
   "execution_count": null,
   "metadata": {},
   "outputs": [],
   "source": [
    "np.append([1, 2, 3], [[4, 5, 6], [7, 8, 9]])"
   ]
  },
  {
   "cell_type": "code",
   "execution_count": null,
   "metadata": {},
   "outputs": [],
   "source": [
    "tmw = ([np.datetime64(x) for x in ttt]  - np.datetime64('1970-01-01')).astype('timedelta64[s]').astype(np.int64)\n",
    "tmw"
   ]
  },
  {
   "cell_type": "code",
   "execution_count": null,
   "metadata": {},
   "outputs": [],
   "source": [
    "np.min(tmw)"
   ]
  },
  {
   "attachments": {},
   "cell_type": "markdown",
   "metadata": {},
   "source": [
    "DATA EXPLORATION CRS GOES_R"
   ]
  },
  {
   "cell_type": "code",
   "execution_count": 10,
   "metadata": {},
   "outputs": [
    {
     "name": "stdout",
     "output_type": "stream",
     "text": [
      "\\%% Accessing data from Cloud. This may take a little time...\n",
      "\n",
      "Data variables:\n",
      "    year      int16 ...\n",
      "    wlku      float32 ...\n",
      "    gatesp    float32 ...\n",
      "    missing   float32 ...\n",
      "    noise_db  (timed) float32 ...\n",
      "    incid     (timed) float32 ...\n",
      "    tilt      (timed) float32 ...\n",
      "    rot       (timed) float32 ...\n",
      "    lat       (timed) float32 ...\n",
      "    lon       (timed) float32 ...\n",
      "    roll      (timed) float32 ...\n",
      "    pitch     (timed) float32 ...\n",
      "    track     (timed) float32 ...\n",
      "    altitude  (timed) float32 ...\n",
      "    head      (timed) float32 ...\n",
      "    gspeed    (timed) float32 ...\n",
      "    evel      (timed) float32 ...\n",
      "    nvel      (timed) float32 ...\n",
      "    wvel      (timed) float32 ...\n",
      "    vacft     (timed) float32 ...\n",
      "    surfvel   (timed) float32 ...\n",
      "    sigm0     (timed) float32 ...\n",
      "    zku       (timed, range) float32 ...\n",
      "    pku       (timed, range) float32 ...\n",
      "    dopcorr   (timed, range) float32 ...\n",
      "    ldr       (timed, range) float32 ...\n"
     ]
    }
   ],
   "source": [
    "bucket_name=\"ghrc-fcx-field-campaigns-szg\"\n",
    "s3_raw_file_key= \"Olympex/instrument-raw-data/crs/olympex_CRS_20151110_172815-20151110_175946_2_v01a.nc\"\n",
    "\n",
    "file=s3_raw_file_key\n",
    "s3bucket=bucket_name\n",
    "\n",
    "date = file.split(\"_\")[2]\n",
    "base_time = np.datetime64('{}-{}-{}'.format(date[:4], date[4:6], date[6:]))\n",
    "\n",
    "# read from s3 url (file) in s3 bucket.\n",
    "fileObj = CRSaccess(file, s3bucket=s3bucket)\n",
    "# open dataset.\n",
    "with xr.open_dataset(fileObj, decode_cf=False) as ds:\n",
    "    print(ds.data_vars)\n",
    "\n",
    "# note: CRS in olympex has zku instead of ref for radar reflectivity."
   ]
  },
  {
   "cell_type": "code",
   "execution_count": 7,
   "metadata": {},
   "outputs": [
    {
     "data": {
      "text/plain": [
       "array([[-1101.3055  ,   -14.93853 ,   -11.495247, ...,          nan,\n",
       "                 nan,          nan],\n",
       "       [-1101.2219  ,   -14.893753,   -11.495079, ...,          nan,\n",
       "                 nan,          nan],\n",
       "       [-1100.9872  ,   -14.800201,   -11.402763, ...,          nan,\n",
       "                 nan,          nan],\n",
       "       ...,\n",
       "       [-1097.9319  ,   -11.605782,    -8.323418, ...,          nan,\n",
       "                 nan,          nan],\n",
       "       [-1097.8307  ,   -11.501442,    -8.216743, ...,          nan,\n",
       "                 nan,          nan],\n",
       "       [-1097.8661  ,   -11.552727,    -8.286781, ...,          nan,\n",
       "                 nan,          nan]], dtype=float32)"
      ]
     },
     "execution_count": 7,
     "metadata": {},
     "output_type": "execute_result"
    }
   ],
   "source": [
    "ref"
   ]
  },
  {
   "cell_type": "code",
   "execution_count": 8,
   "metadata": {},
   "outputs": [
    {
     "ename": "KeyError",
     "evalue": "'year'",
     "output_type": "error",
     "traceback": [
      "\u001b[0;31m---------------------------------------------------------------------------\u001b[0m",
      "\u001b[0;31mKeyError\u001b[0m                                  Traceback (most recent call last)",
      "File \u001b[0;32m~/miniconda3/envs/itsc-fcx-n/lib/python3.10/site-packages/IPython/core/formatters.py:343\u001b[0m, in \u001b[0;36mBaseFormatter.__call__\u001b[0;34m(self, obj)\u001b[0m\n\u001b[1;32m    341\u001b[0m     method \u001b[39m=\u001b[39m get_real_method(obj, \u001b[39mself\u001b[39m\u001b[39m.\u001b[39mprint_method)\n\u001b[1;32m    342\u001b[0m     \u001b[39mif\u001b[39;00m method \u001b[39mis\u001b[39;00m \u001b[39mnot\u001b[39;00m \u001b[39mNone\u001b[39;00m:\n\u001b[0;32m--> 343\u001b[0m         \u001b[39mreturn\u001b[39;00m method()\n\u001b[1;32m    344\u001b[0m     \u001b[39mreturn\u001b[39;00m \u001b[39mNone\u001b[39;00m\n\u001b[1;32m    345\u001b[0m \u001b[39melse\u001b[39;00m:\n",
      "File \u001b[0;32m~/miniconda3/envs/itsc-fcx-n/lib/python3.10/site-packages/xarray/core/dataset.py:2082\u001b[0m, in \u001b[0;36mDataset._repr_html_\u001b[0;34m(self)\u001b[0m\n\u001b[1;32m   2080\u001b[0m \u001b[39mif\u001b[39;00m OPTIONS[\u001b[39m\"\u001b[39m\u001b[39mdisplay_style\u001b[39m\u001b[39m\"\u001b[39m] \u001b[39m==\u001b[39m \u001b[39m\"\u001b[39m\u001b[39mtext\u001b[39m\u001b[39m\"\u001b[39m:\n\u001b[1;32m   2081\u001b[0m     \u001b[39mreturn\u001b[39;00m \u001b[39mf\u001b[39m\u001b[39m\"\u001b[39m\u001b[39m<pre>\u001b[39m\u001b[39m{\u001b[39;00mescape(\u001b[39mrepr\u001b[39m(\u001b[39mself\u001b[39m))\u001b[39m}\u001b[39;00m\u001b[39m</pre>\u001b[39m\u001b[39m\"\u001b[39m\n\u001b[0;32m-> 2082\u001b[0m \u001b[39mreturn\u001b[39;00m formatting_html\u001b[39m.\u001b[39;49mdataset_repr(\u001b[39mself\u001b[39;49m)\n",
      "File \u001b[0;32m~/miniconda3/envs/itsc-fcx-n/lib/python3.10/site-packages/xarray/core/formatting_html.py:282\u001b[0m, in \u001b[0;36mdataset_repr\u001b[0;34m(ds)\u001b[0m\n\u001b[1;32m    275\u001b[0m obj_type \u001b[39m=\u001b[39m \u001b[39mf\u001b[39m\u001b[39m\"\u001b[39m\u001b[39mxarray.\u001b[39m\u001b[39m{\u001b[39;00m\u001b[39mtype\u001b[39m(ds)\u001b[39m.\u001b[39m\u001b[39m__name__\u001b[39m\u001b[39m}\u001b[39;00m\u001b[39m\"\u001b[39m\n\u001b[1;32m    277\u001b[0m header_components \u001b[39m=\u001b[39m [\u001b[39mf\u001b[39m\u001b[39m\"\u001b[39m\u001b[39m<div class=\u001b[39m\u001b[39m'\u001b[39m\u001b[39mxr-obj-type\u001b[39m\u001b[39m'\u001b[39m\u001b[39m>\u001b[39m\u001b[39m{\u001b[39;00mescape(obj_type)\u001b[39m}\u001b[39;00m\u001b[39m</div>\u001b[39m\u001b[39m\"\u001b[39m]\n\u001b[1;32m    279\u001b[0m sections \u001b[39m=\u001b[39m [\n\u001b[1;32m    280\u001b[0m     dim_section(ds),\n\u001b[1;32m    281\u001b[0m     coord_section(ds\u001b[39m.\u001b[39mcoords),\n\u001b[0;32m--> 282\u001b[0m     datavar_section(ds\u001b[39m.\u001b[39;49mdata_vars),\n\u001b[1;32m    283\u001b[0m     attr_section(ds\u001b[39m.\u001b[39mattrs),\n\u001b[1;32m    284\u001b[0m ]\n\u001b[1;32m    286\u001b[0m \u001b[39mreturn\u001b[39;00m _obj_repr(ds, header_components, sections)\n",
      "File \u001b[0;32m~/miniconda3/envs/itsc-fcx-n/lib/python3.10/site-packages/xarray/core/formatting_html.py:161\u001b[0m, in \u001b[0;36m_mapping_section\u001b[0;34m(mapping, name, details_func, max_items_collapse, expand_option_name, enabled)\u001b[0m\n\u001b[1;32m    154\u001b[0m expanded \u001b[39m=\u001b[39m _get_boolean_with_default(\n\u001b[1;32m    155\u001b[0m     expand_option_name, n_items \u001b[39m<\u001b[39m max_items_collapse\n\u001b[1;32m    156\u001b[0m )\n\u001b[1;32m    157\u001b[0m collapsed \u001b[39m=\u001b[39m \u001b[39mnot\u001b[39;00m expanded\n\u001b[1;32m    159\u001b[0m \u001b[39mreturn\u001b[39;00m collapsible_section(\n\u001b[1;32m    160\u001b[0m     name,\n\u001b[0;32m--> 161\u001b[0m     details\u001b[39m=\u001b[39mdetails_func(mapping),\n\u001b[1;32m    162\u001b[0m     n_items\u001b[39m=\u001b[39mn_items,\n\u001b[1;32m    163\u001b[0m     enabled\u001b[39m=\u001b[39menabled,\n\u001b[1;32m    164\u001b[0m     collapsed\u001b[39m=\u001b[39mcollapsed,\n\u001b[1;32m    165\u001b[0m )\n",
      "File \u001b[0;32m~/miniconda3/envs/itsc-fcx-n/lib/python3.10/site-packages/xarray/core/formatting_html.py:120\u001b[0m, in \u001b[0;36msummarize_vars\u001b[0;34m(variables)\u001b[0m\n\u001b[1;32m    119\u001b[0m \u001b[39mdef\u001b[39;00m \u001b[39msummarize_vars\u001b[39m(variables):\n\u001b[0;32m--> 120\u001b[0m     vars_li \u001b[39m=\u001b[39m \u001b[39m\"\u001b[39;49m\u001b[39m\"\u001b[39;49m\u001b[39m.\u001b[39;49mjoin(\n\u001b[1;32m    121\u001b[0m         \u001b[39mf\u001b[39;49m\u001b[39m\"\u001b[39;49m\u001b[39m<li class=\u001b[39;49m\u001b[39m'\u001b[39;49m\u001b[39mxr-var-item\u001b[39;49m\u001b[39m'\u001b[39;49m\u001b[39m>\u001b[39;49m\u001b[39m{\u001b[39;49;00msummarize_variable(k, v)\u001b[39m}\u001b[39;49;00m\u001b[39m</li>\u001b[39;49m\u001b[39m\"\u001b[39;49m\n\u001b[1;32m    122\u001b[0m         \u001b[39mfor\u001b[39;49;00m k, v \u001b[39min\u001b[39;49;00m variables\u001b[39m.\u001b[39;49mitems()\n\u001b[1;32m    123\u001b[0m     )\n\u001b[1;32m    125\u001b[0m     \u001b[39mreturn\u001b[39;00m \u001b[39mf\u001b[39m\u001b[39m\"\u001b[39m\u001b[39m<ul class=\u001b[39m\u001b[39m'\u001b[39m\u001b[39mxr-var-list\u001b[39m\u001b[39m'\u001b[39m\u001b[39m>\u001b[39m\u001b[39m{\u001b[39;00mvars_li\u001b[39m}\u001b[39;00m\u001b[39m</ul>\u001b[39m\u001b[39m\"\u001b[39m\n",
      "File \u001b[0;32m~/miniconda3/envs/itsc-fcx-n/lib/python3.10/site-packages/xarray/core/formatting_html.py:121\u001b[0m, in \u001b[0;36m<genexpr>\u001b[0;34m(.0)\u001b[0m\n\u001b[1;32m    119\u001b[0m \u001b[39mdef\u001b[39;00m \u001b[39msummarize_vars\u001b[39m(variables):\n\u001b[1;32m    120\u001b[0m     vars_li \u001b[39m=\u001b[39m \u001b[39m\"\u001b[39m\u001b[39m\"\u001b[39m\u001b[39m.\u001b[39mjoin(\n\u001b[0;32m--> 121\u001b[0m         \u001b[39mf\u001b[39m\u001b[39m\"\u001b[39m\u001b[39m<li class=\u001b[39m\u001b[39m'\u001b[39m\u001b[39mxr-var-item\u001b[39m\u001b[39m'\u001b[39m\u001b[39m>\u001b[39m\u001b[39m{\u001b[39;00msummarize_variable(k, v)\u001b[39m}\u001b[39;00m\u001b[39m</li>\u001b[39m\u001b[39m\"\u001b[39m\n\u001b[1;32m    122\u001b[0m         \u001b[39mfor\u001b[39;00m k, v \u001b[39min\u001b[39;00m variables\u001b[39m.\u001b[39mitems()\n\u001b[1;32m    123\u001b[0m     )\n\u001b[1;32m    125\u001b[0m     \u001b[39mreturn\u001b[39;00m \u001b[39mf\u001b[39m\u001b[39m\"\u001b[39m\u001b[39m<ul class=\u001b[39m\u001b[39m'\u001b[39m\u001b[39mxr-var-list\u001b[39m\u001b[39m'\u001b[39m\u001b[39m>\u001b[39m\u001b[39m{\u001b[39;00mvars_li\u001b[39m}\u001b[39;00m\u001b[39m</ul>\u001b[39m\u001b[39m\"\u001b[39m\n",
      "File \u001b[0;32m~/miniconda3/envs/itsc-fcx-n/lib/python3.10/site-packages/xarray/core/formatting_html.py:86\u001b[0m, in \u001b[0;36msummarize_variable\u001b[0;34m(name, var, is_index, dtype)\u001b[0m\n\u001b[1;32m     84\u001b[0m preview \u001b[39m=\u001b[39m escape(inline_variable_array_repr(variable, \u001b[39m35\u001b[39m))\n\u001b[1;32m     85\u001b[0m attrs_ul \u001b[39m=\u001b[39m summarize_attrs(var\u001b[39m.\u001b[39mattrs)\n\u001b[0;32m---> 86\u001b[0m data_repr \u001b[39m=\u001b[39m short_data_repr_html(variable)\n\u001b[1;32m     88\u001b[0m attrs_icon \u001b[39m=\u001b[39m _icon(\u001b[39m\"\u001b[39m\u001b[39micon-file-text2\u001b[39m\u001b[39m\"\u001b[39m)\n\u001b[1;32m     89\u001b[0m data_icon \u001b[39m=\u001b[39m _icon(\u001b[39m\"\u001b[39m\u001b[39micon-database\u001b[39m\u001b[39m\"\u001b[39m)\n",
      "File \u001b[0;32m~/miniconda3/envs/itsc-fcx-n/lib/python3.10/site-packages/xarray/core/formatting_html.py:32\u001b[0m, in \u001b[0;36mshort_data_repr_html\u001b[0;34m(array)\u001b[0m\n\u001b[1;32m     30\u001b[0m \u001b[39mif\u001b[39;00m \u001b[39mhasattr\u001b[39m(internal_data, \u001b[39m\"\u001b[39m\u001b[39m_repr_html_\u001b[39m\u001b[39m\"\u001b[39m):\n\u001b[1;32m     31\u001b[0m     \u001b[39mreturn\u001b[39;00m internal_data\u001b[39m.\u001b[39m_repr_html_()\n\u001b[0;32m---> 32\u001b[0m text \u001b[39m=\u001b[39m escape(short_data_repr(array))\n\u001b[1;32m     33\u001b[0m \u001b[39mreturn\u001b[39;00m \u001b[39mf\u001b[39m\u001b[39m\"\u001b[39m\u001b[39m<pre>\u001b[39m\u001b[39m{\u001b[39;00mtext\u001b[39m}\u001b[39;00m\u001b[39m</pre>\u001b[39m\u001b[39m\"\u001b[39m\n",
      "File \u001b[0;32m~/miniconda3/envs/itsc-fcx-n/lib/python3.10/site-packages/xarray/core/formatting.py:548\u001b[0m, in \u001b[0;36mshort_data_repr\u001b[0;34m(array)\u001b[0m\n\u001b[1;32m    546\u001b[0m     \u001b[39mreturn\u001b[39;00m limit_lines(\u001b[39mrepr\u001b[39m(array\u001b[39m.\u001b[39mdata), limit\u001b[39m=\u001b[39m\u001b[39m40\u001b[39m)\n\u001b[1;32m    547\u001b[0m \u001b[39melif\u001b[39;00m array\u001b[39m.\u001b[39m_in_memory \u001b[39mor\u001b[39;00m array\u001b[39m.\u001b[39msize \u001b[39m<\u001b[39m \u001b[39m1e5\u001b[39m:\n\u001b[0;32m--> 548\u001b[0m     \u001b[39mreturn\u001b[39;00m short_numpy_repr(array)\n\u001b[1;32m    549\u001b[0m \u001b[39melse\u001b[39;00m:\n\u001b[1;32m    550\u001b[0m     \u001b[39m# internal xarray array type\u001b[39;00m\n\u001b[1;32m    551\u001b[0m     \u001b[39mreturn\u001b[39;00m \u001b[39mf\u001b[39m\u001b[39m\"\u001b[39m\u001b[39m[\u001b[39m\u001b[39m{\u001b[39;00marray\u001b[39m.\u001b[39msize\u001b[39m}\u001b[39;00m\u001b[39m values with dtype=\u001b[39m\u001b[39m{\u001b[39;00marray\u001b[39m.\u001b[39mdtype\u001b[39m}\u001b[39;00m\u001b[39m]\u001b[39m\u001b[39m\"\u001b[39m\n",
      "File \u001b[0;32m~/miniconda3/envs/itsc-fcx-n/lib/python3.10/site-packages/xarray/core/formatting.py:520\u001b[0m, in \u001b[0;36mshort_numpy_repr\u001b[0;34m(array)\u001b[0m\n\u001b[1;32m    519\u001b[0m \u001b[39mdef\u001b[39;00m \u001b[39mshort_numpy_repr\u001b[39m(array):\n\u001b[0;32m--> 520\u001b[0m     array \u001b[39m=\u001b[39m np\u001b[39m.\u001b[39;49masarray(array)\n\u001b[1;32m    522\u001b[0m     \u001b[39m# default to lower precision so a full (abbreviated) line can fit on\u001b[39;00m\n\u001b[1;32m    523\u001b[0m     \u001b[39m# one line with the default display_width\u001b[39;00m\n\u001b[1;32m    524\u001b[0m     options \u001b[39m=\u001b[39m {\n\u001b[1;32m    525\u001b[0m         \u001b[39m\"\u001b[39m\u001b[39mprecision\u001b[39m\u001b[39m\"\u001b[39m: \u001b[39m6\u001b[39m,\n\u001b[1;32m    526\u001b[0m         \u001b[39m\"\u001b[39m\u001b[39mlinewidth\u001b[39m\u001b[39m\"\u001b[39m: OPTIONS[\u001b[39m\"\u001b[39m\u001b[39mdisplay_width\u001b[39m\u001b[39m\"\u001b[39m],\n\u001b[1;32m    527\u001b[0m         \u001b[39m\"\u001b[39m\u001b[39mthreshold\u001b[39m\u001b[39m\"\u001b[39m: OPTIONS[\u001b[39m\"\u001b[39m\u001b[39mdisplay_values_threshold\u001b[39m\u001b[39m\"\u001b[39m],\n\u001b[1;32m    528\u001b[0m     }\n",
      "File \u001b[0;32m~/miniconda3/envs/itsc-fcx-n/lib/python3.10/site-packages/xarray/core/common.py:156\u001b[0m, in \u001b[0;36mAbstractArray.__array__\u001b[0;34m(self, dtype)\u001b[0m\n\u001b[1;32m    155\u001b[0m \u001b[39mdef\u001b[39;00m \u001b[39m__array__\u001b[39m(\u001b[39mself\u001b[39m: Any, dtype: DTypeLike \u001b[39m=\u001b[39m \u001b[39mNone\u001b[39;00m) \u001b[39m-\u001b[39m\u001b[39m>\u001b[39m np\u001b[39m.\u001b[39mndarray:\n\u001b[0;32m--> 156\u001b[0m     \u001b[39mreturn\u001b[39;00m np\u001b[39m.\u001b[39masarray(\u001b[39mself\u001b[39;49m\u001b[39m.\u001b[39;49mvalues, dtype\u001b[39m=\u001b[39mdtype)\n",
      "File \u001b[0;32m~/miniconda3/envs/itsc-fcx-n/lib/python3.10/site-packages/xarray/core/variable.py:527\u001b[0m, in \u001b[0;36mVariable.values\u001b[0;34m(self)\u001b[0m\n\u001b[1;32m    524\u001b[0m \u001b[39m@property\u001b[39m\n\u001b[1;32m    525\u001b[0m \u001b[39mdef\u001b[39;00m \u001b[39mvalues\u001b[39m(\u001b[39mself\u001b[39m):\n\u001b[1;32m    526\u001b[0m     \u001b[39m\"\"\"The variable's data as a numpy.ndarray\"\"\"\u001b[39;00m\n\u001b[0;32m--> 527\u001b[0m     \u001b[39mreturn\u001b[39;00m _as_array_or_item(\u001b[39mself\u001b[39;49m\u001b[39m.\u001b[39;49m_data)\n",
      "File \u001b[0;32m~/miniconda3/envs/itsc-fcx-n/lib/python3.10/site-packages/xarray/core/variable.py:267\u001b[0m, in \u001b[0;36m_as_array_or_item\u001b[0;34m(data)\u001b[0m\n\u001b[1;32m    253\u001b[0m \u001b[39mdef\u001b[39;00m \u001b[39m_as_array_or_item\u001b[39m(data):\n\u001b[1;32m    254\u001b[0m     \u001b[39m\"\"\"Return the given values as a numpy array, or as an individual item if\u001b[39;00m\n\u001b[1;32m    255\u001b[0m \u001b[39m    it's a 0d datetime64 or timedelta64 array.\u001b[39;00m\n\u001b[1;32m    256\u001b[0m \n\u001b[0;32m   (...)\u001b[0m\n\u001b[1;32m    265\u001b[0m \u001b[39m    TODO: remove this (replace with np.asarray) once these issues are fixed\u001b[39;00m\n\u001b[1;32m    266\u001b[0m \u001b[39m    \"\"\"\u001b[39;00m\n\u001b[0;32m--> 267\u001b[0m     data \u001b[39m=\u001b[39m np\u001b[39m.\u001b[39;49masarray(data)\n\u001b[1;32m    268\u001b[0m     \u001b[39mif\u001b[39;00m data\u001b[39m.\u001b[39mndim \u001b[39m==\u001b[39m \u001b[39m0\u001b[39m:\n\u001b[1;32m    269\u001b[0m         \u001b[39mif\u001b[39;00m data\u001b[39m.\u001b[39mdtype\u001b[39m.\u001b[39mkind \u001b[39m==\u001b[39m \u001b[39m\"\u001b[39m\u001b[39mM\u001b[39m\u001b[39m\"\u001b[39m:\n",
      "File \u001b[0;32m~/miniconda3/envs/itsc-fcx-n/lib/python3.10/site-packages/xarray/core/indexing.py:653\u001b[0m, in \u001b[0;36mMemoryCachedArray.__array__\u001b[0;34m(self, dtype)\u001b[0m\n\u001b[1;32m    652\u001b[0m \u001b[39mdef\u001b[39;00m \u001b[39m__array__\u001b[39m(\u001b[39mself\u001b[39m, dtype\u001b[39m=\u001b[39m\u001b[39mNone\u001b[39;00m):\n\u001b[0;32m--> 653\u001b[0m     \u001b[39mself\u001b[39;49m\u001b[39m.\u001b[39;49m_ensure_cached()\n\u001b[1;32m    654\u001b[0m     \u001b[39mreturn\u001b[39;00m np\u001b[39m.\u001b[39masarray(\u001b[39mself\u001b[39m\u001b[39m.\u001b[39marray, dtype\u001b[39m=\u001b[39mdtype)\n",
      "File \u001b[0;32m~/miniconda3/envs/itsc-fcx-n/lib/python3.10/site-packages/xarray/core/indexing.py:650\u001b[0m, in \u001b[0;36mMemoryCachedArray._ensure_cached\u001b[0;34m(self)\u001b[0m\n\u001b[1;32m    648\u001b[0m \u001b[39mdef\u001b[39;00m \u001b[39m_ensure_cached\u001b[39m(\u001b[39mself\u001b[39m):\n\u001b[1;32m    649\u001b[0m     \u001b[39mif\u001b[39;00m \u001b[39mnot\u001b[39;00m \u001b[39misinstance\u001b[39m(\u001b[39mself\u001b[39m\u001b[39m.\u001b[39marray, NumpyIndexingAdapter):\n\u001b[0;32m--> 650\u001b[0m         \u001b[39mself\u001b[39m\u001b[39m.\u001b[39marray \u001b[39m=\u001b[39m NumpyIndexingAdapter(np\u001b[39m.\u001b[39;49masarray(\u001b[39mself\u001b[39;49m\u001b[39m.\u001b[39;49marray))\n",
      "File \u001b[0;32m~/miniconda3/envs/itsc-fcx-n/lib/python3.10/site-packages/xarray/core/indexing.py:623\u001b[0m, in \u001b[0;36mCopyOnWriteArray.__array__\u001b[0;34m(self, dtype)\u001b[0m\n\u001b[1;32m    622\u001b[0m \u001b[39mdef\u001b[39;00m \u001b[39m__array__\u001b[39m(\u001b[39mself\u001b[39m, dtype\u001b[39m=\u001b[39m\u001b[39mNone\u001b[39;00m):\n\u001b[0;32m--> 623\u001b[0m     \u001b[39mreturn\u001b[39;00m np\u001b[39m.\u001b[39;49masarray(\u001b[39mself\u001b[39;49m\u001b[39m.\u001b[39;49marray, dtype\u001b[39m=\u001b[39;49mdtype)\n",
      "File \u001b[0;32m~/miniconda3/envs/itsc-fcx-n/lib/python3.10/site-packages/xarray/core/indexing.py:524\u001b[0m, in \u001b[0;36mLazilyIndexedArray.__array__\u001b[0;34m(self, dtype)\u001b[0m\n\u001b[1;32m    522\u001b[0m \u001b[39mdef\u001b[39;00m \u001b[39m__array__\u001b[39m(\u001b[39mself\u001b[39m, dtype\u001b[39m=\u001b[39m\u001b[39mNone\u001b[39;00m):\n\u001b[1;32m    523\u001b[0m     array \u001b[39m=\u001b[39m as_indexable(\u001b[39mself\u001b[39m\u001b[39m.\u001b[39marray)\n\u001b[0;32m--> 524\u001b[0m     \u001b[39mreturn\u001b[39;00m np\u001b[39m.\u001b[39masarray(array[\u001b[39mself\u001b[39;49m\u001b[39m.\u001b[39;49mkey], dtype\u001b[39m=\u001b[39m\u001b[39mNone\u001b[39;00m)\n",
      "File \u001b[0;32m~/miniconda3/envs/itsc-fcx-n/lib/python3.10/site-packages/xarray/backends/scipy_.py:62\u001b[0m, in \u001b[0;36mScipyArrayWrapper.__getitem__\u001b[0;34m(self, key)\u001b[0m\n\u001b[1;32m     61\u001b[0m \u001b[39mdef\u001b[39;00m \u001b[39m__getitem__\u001b[39m(\u001b[39mself\u001b[39m, key):\n\u001b[0;32m---> 62\u001b[0m     data \u001b[39m=\u001b[39m NumpyIndexingAdapter(\u001b[39mself\u001b[39;49m\u001b[39m.\u001b[39;49mget_variable()\u001b[39m.\u001b[39mdata)[key]\n\u001b[1;32m     63\u001b[0m     \u001b[39m# Copy data if the source file is mmapped. This makes things consistent\u001b[39;00m\n\u001b[1;32m     64\u001b[0m     \u001b[39m# with the netCDF4 library by ensuring we can safely read arrays even\u001b[39;00m\n\u001b[1;32m     65\u001b[0m     \u001b[39m# after closing associated files.\u001b[39;00m\n\u001b[1;32m     66\u001b[0m     copy \u001b[39m=\u001b[39m \u001b[39mself\u001b[39m\u001b[39m.\u001b[39mdatastore\u001b[39m.\u001b[39mds\u001b[39m.\u001b[39muse_mmap\n",
      "File \u001b[0;32m~/miniconda3/envs/itsc-fcx-n/lib/python3.10/site-packages/xarray/backends/scipy_.py:59\u001b[0m, in \u001b[0;36mScipyArrayWrapper.get_variable\u001b[0;34m(self, needs_lock)\u001b[0m\n\u001b[1;32m     57\u001b[0m \u001b[39mdef\u001b[39;00m \u001b[39mget_variable\u001b[39m(\u001b[39mself\u001b[39m, needs_lock\u001b[39m=\u001b[39m\u001b[39mTrue\u001b[39;00m):\n\u001b[1;32m     58\u001b[0m     ds \u001b[39m=\u001b[39m \u001b[39mself\u001b[39m\u001b[39m.\u001b[39mdatastore\u001b[39m.\u001b[39m_manager\u001b[39m.\u001b[39macquire(needs_lock)\n\u001b[0;32m---> 59\u001b[0m     \u001b[39mreturn\u001b[39;00m ds\u001b[39m.\u001b[39;49mvariables[\u001b[39mself\u001b[39;49m\u001b[39m.\u001b[39;49mvariable_name]\n",
      "\u001b[0;31mKeyError\u001b[0m: 'year'"
     ]
    },
    {
     "data": {
      "text/plain": [
       "<xarray.Dataset>\n",
       "Dimensions:   (timed: 7903, range: 757)\n",
       "Coordinates:\n",
       "  * range     (range) float32 0.0 37.41 74.83 ... 2.821e+04 2.825e+04 2.829e+04\n",
       "  * timed     (timed) float32 17.47 17.47 17.47 17.47 ... 18.02 18.02 18.02\n",
       "Data variables: (12/26)\n",
       "    year      int16 ...\n",
       "    wlku      float32 ...\n",
       "    gatesp    float32 ...\n",
       "    missing   float32 ...\n",
       "    noise_db  (timed) float32 ...\n",
       "    incid     (timed) float32 ...\n",
       "    ...        ...\n",
       "    surfvel   (timed) float32 ...\n",
       "    sigm0     (timed) float32 ...\n",
       "    zku       (timed, range) float32 -1.101e+03 -14.94 -11.5 ... nan nan nan\n",
       "    pku       (timed, range) float32 ...\n",
       "    dopcorr   (timed, range) float32 ...\n",
       "    ldr       (timed, range) float32 ...\n",
       "Attributes:\n",
       "    title:       ER2 CRS Data, NASA Goddard Space Flight Center\n",
       "    filename:    /karldata4/tian/RADEX/hiwrap/RADEX_NETCDF_DIST/crs/L1B_RADEX...\n",
       "    experiment:  NASA RADEX Nov-Dec 2015\n",
       "    source:      created from ER2 CRS HDF file, Version v01\n",
       "    comments:    Contact: lin.tian-1@nasa.gov"
      ]
     },
     "execution_count": 8,
     "metadata": {},
     "output_type": "execute_result"
    }
   ],
   "source": [
    "ds"
   ]
  },
  {
   "cell_type": "code",
   "execution_count": null,
   "metadata": {},
   "outputs": [],
   "source": []
  }
 ],
 "metadata": {
  "kernelspec": {
   "display_name": "itsc-fcx-n",
   "language": "python",
   "name": "python3"
  },
  "language_info": {
   "codemirror_mode": {
    "name": "ipython",
    "version": 3
   },
   "file_extension": ".py",
   "mimetype": "text/x-python",
   "name": "python",
   "nbconvert_exporter": "python",
   "pygments_lexer": "ipython3",
   "version": "3.10.6"
  },
  "orig_nbformat": 4,
  "vscode": {
   "interpreter": {
    "hash": "499a5fb3fec32ad917a576b01fa5ecfdef941a73b5948d57fad4fa0146a62e96"
   }
  }
 },
 "nbformat": 4,
 "nbformat_minor": 2
}
